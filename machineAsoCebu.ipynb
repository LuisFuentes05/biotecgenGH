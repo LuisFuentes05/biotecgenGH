{
 "cells": [
  {
   "cell_type": "code",
   "execution_count": 2,
   "metadata": {},
   "outputs": [],
   "source": [
    "import pandas as pd\n",
    "from sklearn.model_selection import train_test_split\n",
    "import plotly.express as px\n",
    "import numpy as np\n",
    "import matplotlib.pyplot as plt\n",
    "import seaborn as sns"
   ]
  },
  {
   "cell_type": "code",
   "execution_count": 3,
   "metadata": {},
   "outputs": [
    {
     "data": {
      "text/html": [
       "<div>\n",
       "<style scoped>\n",
       "    .dataframe tbody tr th:only-of-type {\n",
       "        vertical-align: middle;\n",
       "    }\n",
       "\n",
       "    .dataframe tbody tr th {\n",
       "        vertical-align: top;\n",
       "    }\n",
       "\n",
       "    .dataframe thead th {\n",
       "        text-align: right;\n",
       "    }\n",
       "</style>\n",
       "<table border=\"1\" class=\"dataframe\">\n",
       "  <thead>\n",
       "    <tr style=\"text-align: right;\">\n",
       "      <th></th>\n",
       "      <th>sample</th>\n",
       "      <th>rs478561671</th>\n",
       "      <th>rs134400846</th>\n",
       "      <th>rs41609588</th>\n",
       "      <th>rs524598098</th>\n",
       "      <th>rs137418621</th>\n",
       "      <th>rs108982244</th>\n",
       "      <th>rs441304198</th>\n",
       "      <th>rs43703977</th>\n",
       "      <th>rs110887329</th>\n",
       "      <th>...</th>\n",
       "      <th>rs42206366</th>\n",
       "      <th>rs29022246</th>\n",
       "      <th>rs42369003</th>\n",
       "      <th>rs42370862</th>\n",
       "      <th>rs135823053</th>\n",
       "      <th>rs109260438</th>\n",
       "      <th>rs110848398</th>\n",
       "      <th>rs42857690</th>\n",
       "      <th>rs43538984</th>\n",
       "      <th>rs110677413</th>\n",
       "    </tr>\n",
       "  </thead>\n",
       "  <tbody>\n",
       "    <tr>\n",
       "      <th>0</th>\n",
       "      <td>Bv6748801G</td>\n",
       "      <td>1.0</td>\n",
       "      <td>2.0</td>\n",
       "      <td>2.0</td>\n",
       "      <td>0</td>\n",
       "      <td>2</td>\n",
       "      <td>0.0</td>\n",
       "      <td>1</td>\n",
       "      <td>2.0</td>\n",
       "      <td>0</td>\n",
       "      <td>...</td>\n",
       "      <td>2</td>\n",
       "      <td>0</td>\n",
       "      <td>1.0</td>\n",
       "      <td>0.0</td>\n",
       "      <td>1</td>\n",
       "      <td>0</td>\n",
       "      <td>2</td>\n",
       "      <td>2.0</td>\n",
       "      <td>2.0</td>\n",
       "      <td>2.0</td>\n",
       "    </tr>\n",
       "    <tr>\n",
       "      <th>1</th>\n",
       "      <td>Bv6748901G</td>\n",
       "      <td>1.0</td>\n",
       "      <td>2.0</td>\n",
       "      <td>2.0</td>\n",
       "      <td>0</td>\n",
       "      <td>2</td>\n",
       "      <td>0.0</td>\n",
       "      <td>2</td>\n",
       "      <td>1.0</td>\n",
       "      <td>0</td>\n",
       "      <td>...</td>\n",
       "      <td>2</td>\n",
       "      <td>0</td>\n",
       "      <td>1.0</td>\n",
       "      <td>1.0</td>\n",
       "      <td>1</td>\n",
       "      <td>0</td>\n",
       "      <td>0</td>\n",
       "      <td>2.0</td>\n",
       "      <td>2.0</td>\n",
       "      <td>2.0</td>\n",
       "    </tr>\n",
       "    <tr>\n",
       "      <th>2</th>\n",
       "      <td>Bv6749001G</td>\n",
       "      <td>1.0</td>\n",
       "      <td>2.0</td>\n",
       "      <td>2.0</td>\n",
       "      <td>1</td>\n",
       "      <td>1</td>\n",
       "      <td>0.0</td>\n",
       "      <td>0</td>\n",
       "      <td>2.0</td>\n",
       "      <td>0</td>\n",
       "      <td>...</td>\n",
       "      <td>2</td>\n",
       "      <td>0</td>\n",
       "      <td>1.0</td>\n",
       "      <td>0.0</td>\n",
       "      <td>1</td>\n",
       "      <td>0</td>\n",
       "      <td>1</td>\n",
       "      <td>2.0</td>\n",
       "      <td>2.0</td>\n",
       "      <td>1.0</td>\n",
       "    </tr>\n",
       "    <tr>\n",
       "      <th>3</th>\n",
       "      <td>Bv6749101G</td>\n",
       "      <td>0.0</td>\n",
       "      <td>2.0</td>\n",
       "      <td>2.0</td>\n",
       "      <td>0</td>\n",
       "      <td>2</td>\n",
       "      <td>0.0</td>\n",
       "      <td>0</td>\n",
       "      <td>1.0</td>\n",
       "      <td>0</td>\n",
       "      <td>...</td>\n",
       "      <td>2</td>\n",
       "      <td>0</td>\n",
       "      <td>1.0</td>\n",
       "      <td>1.0</td>\n",
       "      <td>0</td>\n",
       "      <td>0</td>\n",
       "      <td>1</td>\n",
       "      <td>2.0</td>\n",
       "      <td>2.0</td>\n",
       "      <td>2.0</td>\n",
       "    </tr>\n",
       "    <tr>\n",
       "      <th>4</th>\n",
       "      <td>Bv6749201G</td>\n",
       "      <td>NaN</td>\n",
       "      <td>2.0</td>\n",
       "      <td>2.0</td>\n",
       "      <td>0</td>\n",
       "      <td>2</td>\n",
       "      <td>0.0</td>\n",
       "      <td>1</td>\n",
       "      <td>0.0</td>\n",
       "      <td>0</td>\n",
       "      <td>...</td>\n",
       "      <td>2</td>\n",
       "      <td>0</td>\n",
       "      <td>1.0</td>\n",
       "      <td>0.0</td>\n",
       "      <td>1</td>\n",
       "      <td>0</td>\n",
       "      <td>1</td>\n",
       "      <td>2.0</td>\n",
       "      <td>2.0</td>\n",
       "      <td>2.0</td>\n",
       "    </tr>\n",
       "    <tr>\n",
       "      <th>...</th>\n",
       "      <td>...</td>\n",
       "      <td>...</td>\n",
       "      <td>...</td>\n",
       "      <td>...</td>\n",
       "      <td>...</td>\n",
       "      <td>...</td>\n",
       "      <td>...</td>\n",
       "      <td>...</td>\n",
       "      <td>...</td>\n",
       "      <td>...</td>\n",
       "      <td>...</td>\n",
       "      <td>...</td>\n",
       "      <td>...</td>\n",
       "      <td>...</td>\n",
       "      <td>...</td>\n",
       "      <td>...</td>\n",
       "      <td>...</td>\n",
       "      <td>...</td>\n",
       "      <td>...</td>\n",
       "      <td>...</td>\n",
       "      <td>...</td>\n",
       "    </tr>\n",
       "    <tr>\n",
       "      <th>79</th>\n",
       "      <td>Bv6756701G</td>\n",
       "      <td>0.0</td>\n",
       "      <td>2.0</td>\n",
       "      <td>2.0</td>\n",
       "      <td>0</td>\n",
       "      <td>2</td>\n",
       "      <td>0.0</td>\n",
       "      <td>1</td>\n",
       "      <td>2.0</td>\n",
       "      <td>0</td>\n",
       "      <td>...</td>\n",
       "      <td>2</td>\n",
       "      <td>0</td>\n",
       "      <td>1.0</td>\n",
       "      <td>0.0</td>\n",
       "      <td>1</td>\n",
       "      <td>0</td>\n",
       "      <td>1</td>\n",
       "      <td>2.0</td>\n",
       "      <td>2.0</td>\n",
       "      <td>2.0</td>\n",
       "    </tr>\n",
       "    <tr>\n",
       "      <th>80</th>\n",
       "      <td>Bv6756801G</td>\n",
       "      <td>NaN</td>\n",
       "      <td>2.0</td>\n",
       "      <td>2.0</td>\n",
       "      <td>0</td>\n",
       "      <td>2</td>\n",
       "      <td>0.0</td>\n",
       "      <td>0</td>\n",
       "      <td>2.0</td>\n",
       "      <td>0</td>\n",
       "      <td>...</td>\n",
       "      <td>2</td>\n",
       "      <td>0</td>\n",
       "      <td>1.0</td>\n",
       "      <td>1.0</td>\n",
       "      <td>0</td>\n",
       "      <td>0</td>\n",
       "      <td>1</td>\n",
       "      <td>2.0</td>\n",
       "      <td>NaN</td>\n",
       "      <td>2.0</td>\n",
       "    </tr>\n",
       "    <tr>\n",
       "      <th>81</th>\n",
       "      <td>Bv6756901G</td>\n",
       "      <td>1.0</td>\n",
       "      <td>2.0</td>\n",
       "      <td>2.0</td>\n",
       "      <td>0</td>\n",
       "      <td>1</td>\n",
       "      <td>0.0</td>\n",
       "      <td>0</td>\n",
       "      <td>2.0</td>\n",
       "      <td>0</td>\n",
       "      <td>...</td>\n",
       "      <td>2</td>\n",
       "      <td>0</td>\n",
       "      <td>0.0</td>\n",
       "      <td>2.0</td>\n",
       "      <td>0</td>\n",
       "      <td>0</td>\n",
       "      <td>0</td>\n",
       "      <td>NaN</td>\n",
       "      <td>2.0</td>\n",
       "      <td>2.0</td>\n",
       "    </tr>\n",
       "    <tr>\n",
       "      <th>82</th>\n",
       "      <td>Bv6757001G</td>\n",
       "      <td>NaN</td>\n",
       "      <td>2.0</td>\n",
       "      <td>2.0</td>\n",
       "      <td>0</td>\n",
       "      <td>2</td>\n",
       "      <td>0.0</td>\n",
       "      <td>1</td>\n",
       "      <td>2.0</td>\n",
       "      <td>0</td>\n",
       "      <td>...</td>\n",
       "      <td>2</td>\n",
       "      <td>0</td>\n",
       "      <td>1.0</td>\n",
       "      <td>0.0</td>\n",
       "      <td>0</td>\n",
       "      <td>0</td>\n",
       "      <td>1</td>\n",
       "      <td>2.0</td>\n",
       "      <td>2.0</td>\n",
       "      <td>2.0</td>\n",
       "    </tr>\n",
       "    <tr>\n",
       "      <th>83</th>\n",
       "      <td>Bv6757101G</td>\n",
       "      <td>1.0</td>\n",
       "      <td>2.0</td>\n",
       "      <td>2.0</td>\n",
       "      <td>0</td>\n",
       "      <td>2</td>\n",
       "      <td>0.0</td>\n",
       "      <td>1</td>\n",
       "      <td>1.0</td>\n",
       "      <td>0</td>\n",
       "      <td>...</td>\n",
       "      <td>2</td>\n",
       "      <td>0</td>\n",
       "      <td>1.0</td>\n",
       "      <td>1.0</td>\n",
       "      <td>1</td>\n",
       "      <td>0</td>\n",
       "      <td>1</td>\n",
       "      <td>2.0</td>\n",
       "      <td>2.0</td>\n",
       "      <td>NaN</td>\n",
       "    </tr>\n",
       "  </tbody>\n",
       "</table>\n",
       "<p>84 rows × 39201 columns</p>\n",
       "</div>"
      ],
      "text/plain": [
       "        sample  rs478561671  rs134400846  rs41609588  rs524598098  \\\n",
       "0   Bv6748801G          1.0          2.0         2.0            0   \n",
       "1   Bv6748901G          1.0          2.0         2.0            0   \n",
       "2   Bv6749001G          1.0          2.0         2.0            1   \n",
       "3   Bv6749101G          0.0          2.0         2.0            0   \n",
       "4   Bv6749201G          NaN          2.0         2.0            0   \n",
       "..         ...          ...          ...         ...          ...   \n",
       "79  Bv6756701G          0.0          2.0         2.0            0   \n",
       "80  Bv6756801G          NaN          2.0         2.0            0   \n",
       "81  Bv6756901G          1.0          2.0         2.0            0   \n",
       "82  Bv6757001G          NaN          2.0         2.0            0   \n",
       "83  Bv6757101G          1.0          2.0         2.0            0   \n",
       "\n",
       "    rs137418621  rs108982244  rs441304198  rs43703977  rs110887329  ...  \\\n",
       "0             2          0.0            1         2.0            0  ...   \n",
       "1             2          0.0            2         1.0            0  ...   \n",
       "2             1          0.0            0         2.0            0  ...   \n",
       "3             2          0.0            0         1.0            0  ...   \n",
       "4             2          0.0            1         0.0            0  ...   \n",
       "..          ...          ...          ...         ...          ...  ...   \n",
       "79            2          0.0            1         2.0            0  ...   \n",
       "80            2          0.0            0         2.0            0  ...   \n",
       "81            1          0.0            0         2.0            0  ...   \n",
       "82            2          0.0            1         2.0            0  ...   \n",
       "83            2          0.0            1         1.0            0  ...   \n",
       "\n",
       "    rs42206366  rs29022246  rs42369003  rs42370862  rs135823053  rs109260438  \\\n",
       "0            2           0         1.0         0.0            1            0   \n",
       "1            2           0         1.0         1.0            1            0   \n",
       "2            2           0         1.0         0.0            1            0   \n",
       "3            2           0         1.0         1.0            0            0   \n",
       "4            2           0         1.0         0.0            1            0   \n",
       "..         ...         ...         ...         ...          ...          ...   \n",
       "79           2           0         1.0         0.0            1            0   \n",
       "80           2           0         1.0         1.0            0            0   \n",
       "81           2           0         0.0         2.0            0            0   \n",
       "82           2           0         1.0         0.0            0            0   \n",
       "83           2           0         1.0         1.0            1            0   \n",
       "\n",
       "    rs110848398  rs42857690  rs43538984  rs110677413  \n",
       "0             2         2.0         2.0          2.0  \n",
       "1             0         2.0         2.0          2.0  \n",
       "2             1         2.0         2.0          1.0  \n",
       "3             1         2.0         2.0          2.0  \n",
       "4             1         2.0         2.0          2.0  \n",
       "..          ...         ...         ...          ...  \n",
       "79            1         2.0         2.0          2.0  \n",
       "80            1         2.0         NaN          2.0  \n",
       "81            0         NaN         2.0          2.0  \n",
       "82            1         2.0         2.0          2.0  \n",
       "83            1         2.0         2.0          NaN  \n",
       "\n",
       "[84 rows x 39201 columns]"
      ]
     },
     "execution_count": 3,
     "metadata": {},
     "output_type": "execute_result"
    }
   ],
   "source": [
    "file = pd.read_csv('/Users/luisfuentes/Desktop/biotecgen/genotypedAsoCebu.txt', sep='\\t', header=1)\n",
    "# score = file[\"Score\"]\n",
    "# file.drop(columns=[\"Score\"], inplace=True)\n",
    "# file.fillna(0, inplace=True)\n",
    "# score.fillna(0, inplace=True)\n",
    "file.rename(columns={\"markers\": \"sample\"}, inplace=True)\n",
    "file"
   ]
  },
  {
   "cell_type": "code",
   "execution_count": 4,
   "metadata": {},
   "outputs": [
    {
     "name": "stdout",
     "output_type": "stream",
     "text": [
      "Cantidad de filas y columnas (84, 39201)\n",
      "Nombre columnas Index(['sample', 'rs478561671', 'rs134400846', 'rs41609588', 'rs524598098',\n",
      "       'rs137418621', 'rs108982244', 'rs441304198', 'rs43703977',\n",
      "       'rs110887329',\n",
      "       ...\n",
      "       'rs42206366', 'rs29022246', 'rs42369003', 'rs42370862', 'rs135823053',\n",
      "       'rs109260438', 'rs110848398', 'rs42857690', 'rs43538984',\n",
      "       'rs110677413'],\n",
      "      dtype='object', length=39201)\n",
      "Number of instances: (84, 39201) Number of attributes:  39201\n",
      "Dimensionality of dataset is: 466.67857142857144\n",
      "sample          object\n",
      "rs478561671    float64\n",
      "rs134400846    float64\n",
      "rs41609588     float64\n",
      "rs524598098      int64\n",
      "                ...   \n",
      "rs109260438      int64\n",
      "rs110848398      int64\n",
      "rs42857690     float64\n",
      "rs43538984     float64\n",
      "rs110677413    float64\n",
      "Length: 39201, dtype: object\n"
     ]
    }
   ],
   "source": [
    "print(f'Cantidad de filas y columnas {file.shape}') # Validar las dimensiones del conjunto de datos\n",
    "print(f'Nombre columnas {file.columns}')\n",
    "print('Number of instances:', file.shape, 'Number of attributes: ', file.shape[1])\n",
    "dimensionality = file.shape[1]/file.shape[0]\n",
    "print('Dimensionality of dataset is:', dimensionality)\n",
    "print(file.dtypes)"
   ]
  },
  {
   "cell_type": "code",
   "execution_count": 5,
   "metadata": {},
   "outputs": [
    {
     "data": {
      "text/html": [
       "<div>\n",
       "<style scoped>\n",
       "    .dataframe tbody tr th:only-of-type {\n",
       "        vertical-align: middle;\n",
       "    }\n",
       "\n",
       "    .dataframe tbody tr th {\n",
       "        vertical-align: top;\n",
       "    }\n",
       "\n",
       "    .dataframe thead th {\n",
       "        text-align: right;\n",
       "    }\n",
       "</style>\n",
       "<table border=\"1\" class=\"dataframe\">\n",
       "  <thead>\n",
       "    <tr style=\"text-align: right;\">\n",
       "      <th></th>\n",
       "      <th>count</th>\n",
       "      <th>mean</th>\n",
       "      <th>std</th>\n",
       "      <th>min</th>\n",
       "      <th>25%</th>\n",
       "      <th>50%</th>\n",
       "      <th>75%</th>\n",
       "      <th>max</th>\n",
       "    </tr>\n",
       "  </thead>\n",
       "  <tbody>\n",
       "    <tr>\n",
       "      <th>rs478561671</th>\n",
       "      <td>67.0</td>\n",
       "      <td>0.746269</td>\n",
       "      <td>0.438430</td>\n",
       "      <td>0.0</td>\n",
       "      <td>0.50</td>\n",
       "      <td>1.0</td>\n",
       "      <td>1.0</td>\n",
       "      <td>1.0</td>\n",
       "    </tr>\n",
       "    <tr>\n",
       "      <th>rs134400846</th>\n",
       "      <td>83.0</td>\n",
       "      <td>2.000000</td>\n",
       "      <td>0.000000</td>\n",
       "      <td>2.0</td>\n",
       "      <td>2.00</td>\n",
       "      <td>2.0</td>\n",
       "      <td>2.0</td>\n",
       "      <td>2.0</td>\n",
       "    </tr>\n",
       "    <tr>\n",
       "      <th>rs41609588</th>\n",
       "      <td>82.0</td>\n",
       "      <td>2.000000</td>\n",
       "      <td>0.000000</td>\n",
       "      <td>2.0</td>\n",
       "      <td>2.00</td>\n",
       "      <td>2.0</td>\n",
       "      <td>2.0</td>\n",
       "      <td>2.0</td>\n",
       "    </tr>\n",
       "    <tr>\n",
       "      <th>rs524598098</th>\n",
       "      <td>84.0</td>\n",
       "      <td>0.202381</td>\n",
       "      <td>0.404188</td>\n",
       "      <td>0.0</td>\n",
       "      <td>0.00</td>\n",
       "      <td>0.0</td>\n",
       "      <td>0.0</td>\n",
       "      <td>1.0</td>\n",
       "    </tr>\n",
       "    <tr>\n",
       "      <th>rs137418621</th>\n",
       "      <td>84.0</td>\n",
       "      <td>1.714286</td>\n",
       "      <td>0.480247</td>\n",
       "      <td>0.0</td>\n",
       "      <td>1.00</td>\n",
       "      <td>2.0</td>\n",
       "      <td>2.0</td>\n",
       "      <td>2.0</td>\n",
       "    </tr>\n",
       "    <tr>\n",
       "      <th>...</th>\n",
       "      <td>...</td>\n",
       "      <td>...</td>\n",
       "      <td>...</td>\n",
       "      <td>...</td>\n",
       "      <td>...</td>\n",
       "      <td>...</td>\n",
       "      <td>...</td>\n",
       "      <td>...</td>\n",
       "    </tr>\n",
       "    <tr>\n",
       "      <th>rs109260438</th>\n",
       "      <td>84.0</td>\n",
       "      <td>0.095238</td>\n",
       "      <td>0.295307</td>\n",
       "      <td>0.0</td>\n",
       "      <td>0.00</td>\n",
       "      <td>0.0</td>\n",
       "      <td>0.0</td>\n",
       "      <td>1.0</td>\n",
       "    </tr>\n",
       "    <tr>\n",
       "      <th>rs110848398</th>\n",
       "      <td>84.0</td>\n",
       "      <td>0.988095</td>\n",
       "      <td>0.702732</td>\n",
       "      <td>0.0</td>\n",
       "      <td>0.75</td>\n",
       "      <td>1.0</td>\n",
       "      <td>1.0</td>\n",
       "      <td>2.0</td>\n",
       "    </tr>\n",
       "    <tr>\n",
       "      <th>rs42857690</th>\n",
       "      <td>79.0</td>\n",
       "      <td>1.974684</td>\n",
       "      <td>0.158088</td>\n",
       "      <td>1.0</td>\n",
       "      <td>2.00</td>\n",
       "      <td>2.0</td>\n",
       "      <td>2.0</td>\n",
       "      <td>2.0</td>\n",
       "    </tr>\n",
       "    <tr>\n",
       "      <th>rs43538984</th>\n",
       "      <td>72.0</td>\n",
       "      <td>1.916667</td>\n",
       "      <td>0.278325</td>\n",
       "      <td>1.0</td>\n",
       "      <td>2.00</td>\n",
       "      <td>2.0</td>\n",
       "      <td>2.0</td>\n",
       "      <td>2.0</td>\n",
       "    </tr>\n",
       "    <tr>\n",
       "      <th>rs110677413</th>\n",
       "      <td>73.0</td>\n",
       "      <td>1.890411</td>\n",
       "      <td>0.355967</td>\n",
       "      <td>0.0</td>\n",
       "      <td>2.00</td>\n",
       "      <td>2.0</td>\n",
       "      <td>2.0</td>\n",
       "      <td>2.0</td>\n",
       "    </tr>\n",
       "  </tbody>\n",
       "</table>\n",
       "<p>39200 rows × 8 columns</p>\n",
       "</div>"
      ],
      "text/plain": [
       "             count      mean       std  min   25%  50%  75%  max\n",
       "rs478561671   67.0  0.746269  0.438430  0.0  0.50  1.0  1.0  1.0\n",
       "rs134400846   83.0  2.000000  0.000000  2.0  2.00  2.0  2.0  2.0\n",
       "rs41609588    82.0  2.000000  0.000000  2.0  2.00  2.0  2.0  2.0\n",
       "rs524598098   84.0  0.202381  0.404188  0.0  0.00  0.0  0.0  1.0\n",
       "rs137418621   84.0  1.714286  0.480247  0.0  1.00  2.0  2.0  2.0\n",
       "...            ...       ...       ...  ...   ...  ...  ...  ...\n",
       "rs109260438   84.0  0.095238  0.295307  0.0  0.00  0.0  0.0  1.0\n",
       "rs110848398   84.0  0.988095  0.702732  0.0  0.75  1.0  1.0  2.0\n",
       "rs42857690    79.0  1.974684  0.158088  1.0  2.00  2.0  2.0  2.0\n",
       "rs43538984    72.0  1.916667  0.278325  1.0  2.00  2.0  2.0  2.0\n",
       "rs110677413   73.0  1.890411  0.355967  0.0  2.00  2.0  2.0  2.0\n",
       "\n",
       "[39200 rows x 8 columns]"
      ]
     },
     "execution_count": 5,
     "metadata": {},
     "output_type": "execute_result"
    }
   ],
   "source": [
    "file.describe().T"
   ]
  },
  {
   "cell_type": "code",
   "execution_count": 5,
   "metadata": {},
   "outputs": [
    {
     "name": "stderr",
     "output_type": "stream",
     "text": [
      "/var/folders/qx/5grd8gwd3pzblwjh964n3hq80000gn/T/ipykernel_8948/78642387.py:1: FutureWarning: The default value of numeric_only in DataFrame.skew is deprecated. In a future version, it will default to False. In addition, specifying 'numeric_only=None' is deprecated. Select only valid columns or specify the value of numeric_only to silence this warning.\n",
      "  file.skew()\n"
     ]
    },
    {
     "data": {
      "text/plain": [
       "rs478561671   -1.157978\n",
       "rs134400846    0.000000\n",
       "rs41609588     0.000000\n",
       "rs524598098    1.508596\n",
       "rs137418621   -1.296203\n",
       "                 ...   \n",
       "rs109260438    2.808161\n",
       "rs110848398    0.016502\n",
       "rs42857690    -6.161281\n",
       "rs43538984    -3.079648\n",
       "rs110677413   -3.452303\n",
       "Length: 39200, dtype: float64"
      ]
     },
     "execution_count": 5,
     "metadata": {},
     "output_type": "execute_result"
    }
   ],
   "source": [
    "file.skew()"
   ]
  },
  {
   "cell_type": "code",
   "execution_count": 6,
   "metadata": {},
   "outputs": [],
   "source": [
    "# fig = plt.figure(figsize = (20,20))\n",
    "# ax = fig.gca()\n",
    "# file.hist(ax=ax)\n",
    "# plt.show()"
   ]
  },
  {
   "cell_type": "code",
   "execution_count": 7,
   "metadata": {},
   "outputs": [],
   "source": [
    "# fig = plt.figure(figsize =(16,16))\n",
    "# ax = fig.gca()\n",
    "# print(file.plot(ax=ax, kind='box',subplots = True, layout= (5,4), sharex = False))\n",
    "# plt.show()"
   ]
  },
  {
   "cell_type": "code",
   "execution_count": 12,
   "metadata": {},
   "outputs": [
    {
     "name": "stderr",
     "output_type": "stream",
     "text": [
      "/var/folders/qx/5grd8gwd3pzblwjh964n3hq80000gn/T/ipykernel_9638/3014277608.py:1: FutureWarning: The default value of numeric_only in DataFrame.corr is deprecated. In a future version, it will default to False. Select only valid columns or specify the value of numeric_only to silence this warning.\n",
      "  corr = file.corr(method='pearson')\n"
     ]
    }
   ],
   "source": [
    "corr = file.corr(method='pearson')\n",
    "# plt.figure(figsize = (10,10))\n",
    "# ax= sns.heatmap(corr, vmax = 1 , vmin = -1, square = True , annot = True)\n",
    "# plt.title(\"Matriz de Correlación entre variables\")\n",
    "# plt.show()\n"
   ]
  },
  {
   "cell_type": "code",
   "execution_count": 13,
   "metadata": {},
   "outputs": [
    {
     "data": {
      "text/html": [
       "<div>\n",
       "<style scoped>\n",
       "    .dataframe tbody tr th:only-of-type {\n",
       "        vertical-align: middle;\n",
       "    }\n",
       "\n",
       "    .dataframe tbody tr th {\n",
       "        vertical-align: top;\n",
       "    }\n",
       "\n",
       "    .dataframe thead th {\n",
       "        text-align: right;\n",
       "    }\n",
       "</style>\n",
       "<table border=\"1\" class=\"dataframe\">\n",
       "  <thead>\n",
       "    <tr style=\"text-align: right;\">\n",
       "      <th></th>\n",
       "      <th>rs478561671</th>\n",
       "      <th>rs134400846</th>\n",
       "      <th>rs41609588</th>\n",
       "      <th>rs524598098</th>\n",
       "      <th>rs137418621</th>\n",
       "      <th>rs108982244</th>\n",
       "      <th>rs441304198</th>\n",
       "      <th>rs43703977</th>\n",
       "      <th>rs110887329</th>\n",
       "      <th>rs209115773</th>\n",
       "      <th>...</th>\n",
       "      <th>rs42206366</th>\n",
       "      <th>rs29022246</th>\n",
       "      <th>rs42369003</th>\n",
       "      <th>rs42370862</th>\n",
       "      <th>rs135823053</th>\n",
       "      <th>rs109260438</th>\n",
       "      <th>rs110848398</th>\n",
       "      <th>rs42857690</th>\n",
       "      <th>rs43538984</th>\n",
       "      <th>rs110677413</th>\n",
       "    </tr>\n",
       "  </thead>\n",
       "  <tbody>\n",
       "    <tr>\n",
       "      <th>rs478561671</th>\n",
       "      <td>1.000000</td>\n",
       "      <td>NaN</td>\n",
       "      <td>NaN</td>\n",
       "      <td>0.024706</td>\n",
       "      <td>-0.124624</td>\n",
       "      <td>NaN</td>\n",
       "      <td>0.036193</td>\n",
       "      <td>-0.028606</td>\n",
       "      <td>NaN</td>\n",
       "      <td>-0.181103</td>\n",
       "      <td>...</td>\n",
       "      <td>NaN</td>\n",
       "      <td>0.035066</td>\n",
       "      <td>0.243066</td>\n",
       "      <td>0.209500</td>\n",
       "      <td>0.141135</td>\n",
       "      <td>-0.025105</td>\n",
       "      <td>-0.155952</td>\n",
       "      <td>0.100947</td>\n",
       "      <td>-0.026671</td>\n",
       "      <td>-0.185425</td>\n",
       "    </tr>\n",
       "    <tr>\n",
       "      <th>rs134400846</th>\n",
       "      <td>NaN</td>\n",
       "      <td>NaN</td>\n",
       "      <td>NaN</td>\n",
       "      <td>NaN</td>\n",
       "      <td>NaN</td>\n",
       "      <td>NaN</td>\n",
       "      <td>NaN</td>\n",
       "      <td>NaN</td>\n",
       "      <td>NaN</td>\n",
       "      <td>NaN</td>\n",
       "      <td>...</td>\n",
       "      <td>NaN</td>\n",
       "      <td>NaN</td>\n",
       "      <td>NaN</td>\n",
       "      <td>NaN</td>\n",
       "      <td>NaN</td>\n",
       "      <td>NaN</td>\n",
       "      <td>NaN</td>\n",
       "      <td>NaN</td>\n",
       "      <td>NaN</td>\n",
       "      <td>NaN</td>\n",
       "    </tr>\n",
       "    <tr>\n",
       "      <th>rs41609588</th>\n",
       "      <td>NaN</td>\n",
       "      <td>NaN</td>\n",
       "      <td>NaN</td>\n",
       "      <td>NaN</td>\n",
       "      <td>NaN</td>\n",
       "      <td>NaN</td>\n",
       "      <td>NaN</td>\n",
       "      <td>NaN</td>\n",
       "      <td>NaN</td>\n",
       "      <td>NaN</td>\n",
       "      <td>...</td>\n",
       "      <td>NaN</td>\n",
       "      <td>NaN</td>\n",
       "      <td>NaN</td>\n",
       "      <td>NaN</td>\n",
       "      <td>NaN</td>\n",
       "      <td>NaN</td>\n",
       "      <td>NaN</td>\n",
       "      <td>NaN</td>\n",
       "      <td>NaN</td>\n",
       "      <td>NaN</td>\n",
       "    </tr>\n",
       "    <tr>\n",
       "      <th>rs524598098</th>\n",
       "      <td>0.024706</td>\n",
       "      <td>NaN</td>\n",
       "      <td>NaN</td>\n",
       "      <td>1.000000</td>\n",
       "      <td>-0.691625</td>\n",
       "      <td>NaN</td>\n",
       "      <td>-0.232211</td>\n",
       "      <td>0.051503</td>\n",
       "      <td>NaN</td>\n",
       "      <td>0.138762</td>\n",
       "      <td>...</td>\n",
       "      <td>NaN</td>\n",
       "      <td>-0.151877</td>\n",
       "      <td>0.032723</td>\n",
       "      <td>-0.079196</td>\n",
       "      <td>-0.154036</td>\n",
       "      <td>-0.062487</td>\n",
       "      <td>-0.203505</td>\n",
       "      <td>0.078023</td>\n",
       "      <td>0.030934</td>\n",
       "      <td>0.043011</td>\n",
       "    </tr>\n",
       "    <tr>\n",
       "      <th>rs137418621</th>\n",
       "      <td>-0.124624</td>\n",
       "      <td>NaN</td>\n",
       "      <td>NaN</td>\n",
       "      <td>-0.691625</td>\n",
       "      <td>1.000000</td>\n",
       "      <td>NaN</td>\n",
       "      <td>0.346100</td>\n",
       "      <td>-0.158374</td>\n",
       "      <td>NaN</td>\n",
       "      <td>0.010381</td>\n",
       "      <td>...</td>\n",
       "      <td>NaN</td>\n",
       "      <td>0.180456</td>\n",
       "      <td>-0.019488</td>\n",
       "      <td>0.034484</td>\n",
       "      <td>0.095004</td>\n",
       "      <td>0.109227</td>\n",
       "      <td>0.096900</td>\n",
       "      <td>-0.094357</td>\n",
       "      <td>-0.175250</td>\n",
       "      <td>-0.095569</td>\n",
       "    </tr>\n",
       "    <tr>\n",
       "      <th>...</th>\n",
       "      <td>...</td>\n",
       "      <td>...</td>\n",
       "      <td>...</td>\n",
       "      <td>...</td>\n",
       "      <td>...</td>\n",
       "      <td>...</td>\n",
       "      <td>...</td>\n",
       "      <td>...</td>\n",
       "      <td>...</td>\n",
       "      <td>...</td>\n",
       "      <td>...</td>\n",
       "      <td>...</td>\n",
       "      <td>...</td>\n",
       "      <td>...</td>\n",
       "      <td>...</td>\n",
       "      <td>...</td>\n",
       "      <td>...</td>\n",
       "      <td>...</td>\n",
       "      <td>...</td>\n",
       "      <td>...</td>\n",
       "      <td>...</td>\n",
       "    </tr>\n",
       "    <tr>\n",
       "      <th>rs109260438</th>\n",
       "      <td>-0.025105</td>\n",
       "      <td>NaN</td>\n",
       "      <td>NaN</td>\n",
       "      <td>-0.062487</td>\n",
       "      <td>0.109227</td>\n",
       "      <td>NaN</td>\n",
       "      <td>-0.128812</td>\n",
       "      <td>0.084402</td>\n",
       "      <td>NaN</td>\n",
       "      <td>0.211027</td>\n",
       "      <td>...</td>\n",
       "      <td>NaN</td>\n",
       "      <td>0.342381</td>\n",
       "      <td>-0.146600</td>\n",
       "      <td>0.296916</td>\n",
       "      <td>0.083688</td>\n",
       "      <td>1.000000</td>\n",
       "      <td>0.005529</td>\n",
       "      <td>-0.233312</td>\n",
       "      <td>-0.272727</td>\n",
       "      <td>0.100955</td>\n",
       "    </tr>\n",
       "    <tr>\n",
       "      <th>rs110848398</th>\n",
       "      <td>-0.155952</td>\n",
       "      <td>NaN</td>\n",
       "      <td>NaN</td>\n",
       "      <td>-0.203505</td>\n",
       "      <td>0.096900</td>\n",
       "      <td>NaN</td>\n",
       "      <td>-0.098258</td>\n",
       "      <td>0.032707</td>\n",
       "      <td>NaN</td>\n",
       "      <td>0.296189</td>\n",
       "      <td>...</td>\n",
       "      <td>NaN</td>\n",
       "      <td>-0.056523</td>\n",
       "      <td>0.093894</td>\n",
       "      <td>-0.517095</td>\n",
       "      <td>-0.238737</td>\n",
       "      <td>0.005529</td>\n",
       "      <td>1.000000</td>\n",
       "      <td>-0.111803</td>\n",
       "      <td>-0.030181</td>\n",
       "      <td>-0.077474</td>\n",
       "    </tr>\n",
       "    <tr>\n",
       "      <th>rs42857690</th>\n",
       "      <td>0.100947</td>\n",
       "      <td>NaN</td>\n",
       "      <td>NaN</td>\n",
       "      <td>0.078023</td>\n",
       "      <td>-0.094357</td>\n",
       "      <td>NaN</td>\n",
       "      <td>0.009210</td>\n",
       "      <td>-0.117046</td>\n",
       "      <td>NaN</td>\n",
       "      <td>-0.251538</td>\n",
       "      <td>...</td>\n",
       "      <td>NaN</td>\n",
       "      <td>-0.233312</td>\n",
       "      <td>0.198073</td>\n",
       "      <td>-0.092632</td>\n",
       "      <td>-0.101704</td>\n",
       "      <td>-0.233312</td>\n",
       "      <td>-0.111803</td>\n",
       "      <td>1.000000</td>\n",
       "      <td>NaN</td>\n",
       "      <td>-0.035493</td>\n",
       "    </tr>\n",
       "    <tr>\n",
       "      <th>rs43538984</th>\n",
       "      <td>-0.026671</td>\n",
       "      <td>NaN</td>\n",
       "      <td>NaN</td>\n",
       "      <td>0.030934</td>\n",
       "      <td>-0.175250</td>\n",
       "      <td>NaN</td>\n",
       "      <td>-0.216541</td>\n",
       "      <td>0.089398</td>\n",
       "      <td>NaN</td>\n",
       "      <td>0.091578</td>\n",
       "      <td>...</td>\n",
       "      <td>NaN</td>\n",
       "      <td>-0.454545</td>\n",
       "      <td>0.062500</td>\n",
       "      <td>-0.055123</td>\n",
       "      <td>-0.042220</td>\n",
       "      <td>-0.272727</td>\n",
       "      <td>-0.030181</td>\n",
       "      <td>NaN</td>\n",
       "      <td>1.000000</td>\n",
       "      <td>-0.090303</td>\n",
       "    </tr>\n",
       "    <tr>\n",
       "      <th>rs110677413</th>\n",
       "      <td>-0.185425</td>\n",
       "      <td>NaN</td>\n",
       "      <td>NaN</td>\n",
       "      <td>0.043011</td>\n",
       "      <td>-0.095569</td>\n",
       "      <td>NaN</td>\n",
       "      <td>-0.138164</td>\n",
       "      <td>0.130533</td>\n",
       "      <td>NaN</td>\n",
       "      <td>0.076782</td>\n",
       "      <td>...</td>\n",
       "      <td>NaN</td>\n",
       "      <td>0.092766</td>\n",
       "      <td>-0.194594</td>\n",
       "      <td>0.096572</td>\n",
       "      <td>-0.074404</td>\n",
       "      <td>0.100955</td>\n",
       "      <td>-0.077474</td>\n",
       "      <td>-0.035493</td>\n",
       "      <td>-0.090303</td>\n",
       "      <td>1.000000</td>\n",
       "    </tr>\n",
       "  </tbody>\n",
       "</table>\n",
       "<p>39200 rows × 39200 columns</p>\n",
       "</div>"
      ],
      "text/plain": [
       "             rs478561671  rs134400846  rs41609588  rs524598098  rs137418621  \\\n",
       "rs478561671     1.000000          NaN         NaN     0.024706    -0.124624   \n",
       "rs134400846          NaN          NaN         NaN          NaN          NaN   \n",
       "rs41609588           NaN          NaN         NaN          NaN          NaN   \n",
       "rs524598098     0.024706          NaN         NaN     1.000000    -0.691625   \n",
       "rs137418621    -0.124624          NaN         NaN    -0.691625     1.000000   \n",
       "...                  ...          ...         ...          ...          ...   \n",
       "rs109260438    -0.025105          NaN         NaN    -0.062487     0.109227   \n",
       "rs110848398    -0.155952          NaN         NaN    -0.203505     0.096900   \n",
       "rs42857690      0.100947          NaN         NaN     0.078023    -0.094357   \n",
       "rs43538984     -0.026671          NaN         NaN     0.030934    -0.175250   \n",
       "rs110677413    -0.185425          NaN         NaN     0.043011    -0.095569   \n",
       "\n",
       "             rs108982244  rs441304198  rs43703977  rs110887329  rs209115773  \\\n",
       "rs478561671          NaN     0.036193   -0.028606          NaN    -0.181103   \n",
       "rs134400846          NaN          NaN         NaN          NaN          NaN   \n",
       "rs41609588           NaN          NaN         NaN          NaN          NaN   \n",
       "rs524598098          NaN    -0.232211    0.051503          NaN     0.138762   \n",
       "rs137418621          NaN     0.346100   -0.158374          NaN     0.010381   \n",
       "...                  ...          ...         ...          ...          ...   \n",
       "rs109260438          NaN    -0.128812    0.084402          NaN     0.211027   \n",
       "rs110848398          NaN    -0.098258    0.032707          NaN     0.296189   \n",
       "rs42857690           NaN     0.009210   -0.117046          NaN    -0.251538   \n",
       "rs43538984           NaN    -0.216541    0.089398          NaN     0.091578   \n",
       "rs110677413          NaN    -0.138164    0.130533          NaN     0.076782   \n",
       "\n",
       "             ...  rs42206366  rs29022246  rs42369003  rs42370862  rs135823053  \\\n",
       "rs478561671  ...         NaN    0.035066    0.243066    0.209500     0.141135   \n",
       "rs134400846  ...         NaN         NaN         NaN         NaN          NaN   \n",
       "rs41609588   ...         NaN         NaN         NaN         NaN          NaN   \n",
       "rs524598098  ...         NaN   -0.151877    0.032723   -0.079196    -0.154036   \n",
       "rs137418621  ...         NaN    0.180456   -0.019488    0.034484     0.095004   \n",
       "...          ...         ...         ...         ...         ...          ...   \n",
       "rs109260438  ...         NaN    0.342381   -0.146600    0.296916     0.083688   \n",
       "rs110848398  ...         NaN   -0.056523    0.093894   -0.517095    -0.238737   \n",
       "rs42857690   ...         NaN   -0.233312    0.198073   -0.092632    -0.101704   \n",
       "rs43538984   ...         NaN   -0.454545    0.062500   -0.055123    -0.042220   \n",
       "rs110677413  ...         NaN    0.092766   -0.194594    0.096572    -0.074404   \n",
       "\n",
       "             rs109260438  rs110848398  rs42857690  rs43538984  rs110677413  \n",
       "rs478561671    -0.025105    -0.155952    0.100947   -0.026671    -0.185425  \n",
       "rs134400846          NaN          NaN         NaN         NaN          NaN  \n",
       "rs41609588           NaN          NaN         NaN         NaN          NaN  \n",
       "rs524598098    -0.062487    -0.203505    0.078023    0.030934     0.043011  \n",
       "rs137418621     0.109227     0.096900   -0.094357   -0.175250    -0.095569  \n",
       "...                  ...          ...         ...         ...          ...  \n",
       "rs109260438     1.000000     0.005529   -0.233312   -0.272727     0.100955  \n",
       "rs110848398     0.005529     1.000000   -0.111803   -0.030181    -0.077474  \n",
       "rs42857690     -0.233312    -0.111803    1.000000         NaN    -0.035493  \n",
       "rs43538984     -0.272727    -0.030181         NaN    1.000000    -0.090303  \n",
       "rs110677413     0.100955    -0.077474   -0.035493   -0.090303     1.000000  \n",
       "\n",
       "[39200 rows x 39200 columns]"
      ]
     },
     "execution_count": 13,
     "metadata": {},
     "output_type": "execute_result"
    }
   ],
   "source": [
    "corr"
   ]
  },
  {
   "cell_type": "code",
   "execution_count": 14,
   "metadata": {},
   "outputs": [],
   "source": [
    "columnsCleand = []\n",
    "for i in corr.columns:\n",
    "    if(corr[i].isna().sum() > 31360):\n",
    "        columnsCleand.append(i) \n"
   ]
  },
  {
   "cell_type": "code",
   "execution_count": 9,
   "metadata": {},
   "outputs": [
    {
     "data": {
      "text/plain": [
       "31268"
      ]
     },
     "execution_count": 9,
     "metadata": {},
     "output_type": "execute_result"
    }
   ],
   "source": [
    "len(columnsCleand)"
   ]
  },
  {
   "cell_type": "code",
   "execution_count": 10,
   "metadata": {},
   "outputs": [],
   "source": [
    "corr.dropna(subset=columnsCleand, inplace=True)"
   ]
  },
  {
   "cell_type": "code",
   "execution_count": 11,
   "metadata": {},
   "outputs": [
    {
     "name": "stdout",
     "output_type": "stream",
     "text": [
      "             rs478561671  rs134400846  rs41609588  rs524598098  rs137418621  \\\n",
      "rs524598098     0.024706          NaN         NaN     1.000000    -0.691625   \n",
      "rs137418621    -0.124624          NaN         NaN    -0.691625     1.000000   \n",
      "rs441304198     0.036193          NaN         NaN    -0.232211     0.346100   \n",
      "rs209115773    -0.181103          NaN         NaN     0.138762     0.010381   \n",
      "rs110936909     0.166763          NaN         NaN    -0.122898    -0.271799   \n",
      "...                  ...          ...         ...          ...          ...   \n",
      "rs109661590    -0.145480          NaN         NaN    -0.008867    -0.097015   \n",
      "rs110184133    -0.075357          NaN         NaN    -0.034823    -0.068810   \n",
      "rs29022246      0.035066          NaN         NaN    -0.151877     0.180456   \n",
      "rs135823053     0.141135          NaN         NaN    -0.154036     0.095004   \n",
      "rs110848398    -0.155952          NaN         NaN    -0.203505     0.096900   \n",
      "\n",
      "             rs108982244  rs441304198  rs43703977  rs110887329  rs209115773  \\\n",
      "rs524598098          NaN    -0.232211    0.051503          NaN     0.138762   \n",
      "rs137418621          NaN     0.346100   -0.158374          NaN     0.010381   \n",
      "rs441304198          NaN     1.000000   -0.352084          NaN    -0.247907   \n",
      "rs209115773          NaN    -0.247907    0.267981          NaN     1.000000   \n",
      "rs110936909          NaN    -0.057487   -0.072858          NaN    -0.267810   \n",
      "...                  ...          ...         ...          ...          ...   \n",
      "rs109661590          NaN    -0.304775    0.099828          NaN     0.119381   \n",
      "rs110184133          NaN    -0.314007    0.019002          NaN     0.090400   \n",
      "rs29022246           NaN     0.176959   -0.079526          NaN     0.094134   \n",
      "rs135823053          NaN     0.397311    0.193880          NaN     0.016519   \n",
      "rs110848398          NaN    -0.098258    0.032707          NaN     0.296189   \n",
      "\n",
      "             ...  rs42206366    rs29022246  rs42369003  rs42370862  \\\n",
      "rs524598098  ...         NaN -1.518765e-01    0.032723   -0.079196   \n",
      "rs137418621  ...         NaN  1.804562e-01   -0.019488    0.034484   \n",
      "rs441304198  ...         NaN  1.769586e-01    0.008058    0.096198   \n",
      "rs209115773  ...         NaN  9.413381e-02   -0.104077   -0.096847   \n",
      "rs110936909  ...         NaN -1.186683e-01    0.081573   -0.098042   \n",
      "...          ...         ...           ...         ...         ...   \n",
      "rs109661590  ...         NaN -1.045559e-16    0.063593   -0.480605   \n",
      "rs110184133  ...         NaN -1.540651e-02   -0.051291   -0.326604   \n",
      "rs29022246   ...         NaN  1.000000e+00   -0.192091    0.208596   \n",
      "rs135823053  ...         NaN  3.469883e-01   -0.085016    0.383428   \n",
      "rs110848398  ...         NaN -5.652334e-02    0.093894   -0.517095   \n",
      "\n",
      "             rs135823053  rs109260438  rs110848398  rs42857690  rs43538984  \\\n",
      "rs524598098    -0.154036    -0.062487    -0.203505    0.078023    0.030934   \n",
      "rs137418621     0.095004     0.109227     0.096900   -0.094357   -0.175250   \n",
      "rs441304198     0.397311    -0.128812    -0.098258    0.009210   -0.216541   \n",
      "rs209115773     0.016519     0.211027     0.296189   -0.251538    0.091578   \n",
      "rs110936909    -0.239086    -0.127694     0.006708    0.062354    0.009990   \n",
      "...                  ...          ...          ...         ...         ...   \n",
      "rs109661590    -0.403766    -0.145636     0.168300    0.069931   -0.085486   \n",
      "rs110184133    -0.464354     0.095325     0.173295    0.080377   -0.175250   \n",
      "rs29022246      0.346988     0.342381    -0.056523   -0.233312   -0.454545   \n",
      "rs135823053     1.000000     0.083688    -0.238737   -0.101704   -0.042220   \n",
      "rs110848398    -0.238737     0.005529     1.000000   -0.111803   -0.030181   \n",
      "\n",
      "             rs110677413  \n",
      "rs524598098     0.043011  \n",
      "rs137418621    -0.095569  \n",
      "rs441304198    -0.138164  \n",
      "rs209115773     0.076782  \n",
      "rs110936909     0.123504  \n",
      "...                  ...  \n",
      "rs109661590    -0.015621  \n",
      "rs110184133     0.158463  \n",
      "rs29022246      0.092766  \n",
      "rs135823053    -0.074404  \n",
      "rs110848398    -0.077474  \n",
      "\n",
      "[13015 rows x 39200 columns]\n"
     ]
    }
   ],
   "source": [
    "print(corr)"
   ]
  },
  {
   "cell_type": "code",
   "execution_count": 41,
   "metadata": {},
   "outputs": [],
   "source": [
    "# PCA"
   ]
  },
  {
   "cell_type": "code",
   "execution_count": 56,
   "metadata": {},
   "outputs": [],
   "source": [
    "file.fillna(3, inplace=True)\n",
    "X = file.iloc[:, 1:].values\n",
    "Y = file.iloc[:, 0].values"
   ]
  },
  {
   "cell_type": "code",
   "execution_count": 57,
   "metadata": {},
   "outputs": [
    {
     "data": {
      "text/plain": [
       "array([[1., 2., 2., ..., 2., 2., 2.],\n",
       "       [1., 2., 2., ..., 2., 2., 2.],\n",
       "       [1., 2., 2., ..., 2., 2., 1.],\n",
       "       ...,\n",
       "       [1., 2., 2., ..., 3., 2., 2.],\n",
       "       [3., 2., 2., ..., 2., 2., 2.],\n",
       "       [1., 2., 2., ..., 2., 2., 3.]])"
      ]
     },
     "execution_count": 57,
     "metadata": {},
     "output_type": "execute_result"
    }
   ],
   "source": [
    "X\n"
   ]
  },
  {
   "cell_type": "code",
   "execution_count": 58,
   "metadata": {},
   "outputs": [
    {
     "data": {
      "text/plain": [
       "array([[-0.20538652, -0.10976426, -0.15617376, ..., -0.12467575,\n",
       "        -0.15617376, -0.07161149],\n",
       "       [-0.20538652, -0.10976426, -0.15617376, ..., -0.12467575,\n",
       "        -0.15617376, -0.07161149],\n",
       "       [-0.20538652, -0.10976426, -0.15617376, ..., -0.12467575,\n",
       "        -0.15617376, -2.07673313],\n",
       "       ...,\n",
       "       [-0.20538652, -0.10976426, -0.15617376, ...,  3.36624512,\n",
       "        -0.15617376, -0.07161149],\n",
       "       [ 1.82431556, -0.10976426, -0.15617376, ..., -0.12467575,\n",
       "        -0.15617376, -0.07161149],\n",
       "       [-0.20538652, -0.10976426, -0.15617376, ..., -0.12467575,\n",
       "        -0.15617376,  1.93351016]])"
      ]
     },
     "execution_count": 58,
     "metadata": {},
     "output_type": "execute_result"
    }
   ],
   "source": [
    "from sklearn.preprocessing import StandardScaler\n",
    "sc = StandardScaler()\n",
    "X_scaled = sc.fit_transform(X)\n",
    "X_scaled"
   ]
  },
  {
   "cell_type": "code",
   "execution_count": 65,
   "metadata": {},
   "outputs": [],
   "source": [
    "from sklearn.decomposition import PCA\n",
    "pca = PCA(0.95)\n",
    "X_pca = pca.fit_transform(X)\n"
   ]
  },
  {
   "cell_type": "code",
   "execution_count": 79,
   "metadata": {},
   "outputs": [
    {
     "ename": "AttributeError",
     "evalue": "'numpy.ndarray' object has no attribute 'explained_variance_ratio_'",
     "output_type": "error",
     "traceback": [
      "\u001b[0;31m---------------------------------------------------------------------------\u001b[0m",
      "\u001b[0;31mAttributeError\u001b[0m                            Traceback (most recent call last)",
      "Cell \u001b[0;32mIn[79], line 1\u001b[0m\n\u001b[0;32m----> 1\u001b[0m X_pca\u001b[39m.\u001b[39;49mexplained_variance_ratio_\n",
      "\u001b[0;31mAttributeError\u001b[0m: 'numpy.ndarray' object has no attribute 'explained_variance_ratio_'"
     ]
    }
   ],
   "source": [
    "X_pca.explained_variance_ratio_"
   ]
  },
  {
   "cell_type": "code",
   "execution_count": 70,
   "metadata": {},
   "outputs": [
    {
     "data": {
      "application/vnd.plotly.v1+json": {
       "config": {
        "plotlyServerURL": "https://plot.ly"
       },
       "data": [
        {
         "diagonal": {
          "visible": false
         },
         "dimensions": [
          {
           "axis": {
            "matches": true
           },
           "label": "PC 1",
           "values": [
            3.757861577194287
           ]
          },
          {
           "axis": {
            "matches": true
           },
           "label": "PC 2",
           "values": [
            -10.55249660636196
           ]
          },
          {
           "axis": {
            "matches": true
           },
           "label": "PC 3",
           "values": [
            0.009638752958007
           ]
          },
          {
           "axis": {
            "matches": true
           },
           "label": "PC 4",
           "values": [
            1.3212505040345266
           ]
          },
          {
           "axis": {
            "matches": true
           },
           "label": "PC 5",
           "values": [
            18.22557004117244
           ]
          }
         ],
         "hovertemplate": "color=Bv6748801G<br>%{xaxis.title.text}=%{x}<br>%{yaxis.title.text}=%{y}<extra></extra>",
         "legendgroup": "Bv6748801G",
         "marker": {
          "color": "#636efa",
          "symbol": "circle"
         },
         "name": "Bv6748801G",
         "showlegend": true,
         "type": "splom"
        },
        {
         "diagonal": {
          "visible": false
         },
         "dimensions": [
          {
           "axis": {
            "matches": true
           },
           "label": "PC 1",
           "values": [
            -14.493689354397912
           ]
          },
          {
           "axis": {
            "matches": true
           },
           "label": "PC 2",
           "values": [
            4.265070847402103
           ]
          },
          {
           "axis": {
            "matches": true
           },
           "label": "PC 3",
           "values": [
            -18.235132382863284
           ]
          },
          {
           "axis": {
            "matches": true
           },
           "label": "PC 4",
           "values": [
            -27.09752998946634
           ]
          },
          {
           "axis": {
            "matches": true
           },
           "label": "PC 5",
           "values": [
            -0.9889604164774373
           ]
          }
         ],
         "hovertemplate": "color=Bv6748901G<br>%{xaxis.title.text}=%{x}<br>%{yaxis.title.text}=%{y}<extra></extra>",
         "legendgroup": "Bv6748901G",
         "marker": {
          "color": "#EF553B",
          "symbol": "circle"
         },
         "name": "Bv6748901G",
         "showlegend": true,
         "type": "splom"
        },
        {
         "diagonal": {
          "visible": false
         },
         "dimensions": [
          {
           "axis": {
            "matches": true
           },
           "label": "PC 1",
           "values": [
            -16.44339138140628
           ]
          },
          {
           "axis": {
            "matches": true
           },
           "label": "PC 2",
           "values": [
            9.463935714470308
           ]
          },
          {
           "axis": {
            "matches": true
           },
           "label": "PC 3",
           "values": [
            -14.334785258857954
           ]
          },
          {
           "axis": {
            "matches": true
           },
           "label": "PC 4",
           "values": [
            -4.832294194425718
           ]
          },
          {
           "axis": {
            "matches": true
           },
           "label": "PC 5",
           "values": [
            4.044778988827541
           ]
          }
         ],
         "hovertemplate": "color=Bv6749001G<br>%{xaxis.title.text}=%{x}<br>%{yaxis.title.text}=%{y}<extra></extra>",
         "legendgroup": "Bv6749001G",
         "marker": {
          "color": "#00cc96",
          "symbol": "circle"
         },
         "name": "Bv6749001G",
         "showlegend": true,
         "type": "splom"
        },
        {
         "diagonal": {
          "visible": false
         },
         "dimensions": [
          {
           "axis": {
            "matches": true
           },
           "label": "PC 1",
           "values": [
            22.826418413185596
           ]
          },
          {
           "axis": {
            "matches": true
           },
           "label": "PC 2",
           "values": [
            -23.257611208866468
           ]
          },
          {
           "axis": {
            "matches": true
           },
           "label": "PC 3",
           "values": [
            5.584864108661795
           ]
          },
          {
           "axis": {
            "matches": true
           },
           "label": "PC 4",
           "values": [
            -5.867436442359766
           ]
          },
          {
           "axis": {
            "matches": true
           },
           "label": "PC 5",
           "values": [
            -2.2875357615241416
           ]
          }
         ],
         "hovertemplate": "color=Bv6749101G<br>%{xaxis.title.text}=%{x}<br>%{yaxis.title.text}=%{y}<extra></extra>",
         "legendgroup": "Bv6749101G",
         "marker": {
          "color": "#ab63fa",
          "symbol": "circle"
         },
         "name": "Bv6749101G",
         "showlegend": true,
         "type": "splom"
        },
        {
         "diagonal": {
          "visible": false
         },
         "dimensions": [
          {
           "axis": {
            "matches": true
           },
           "label": "PC 1",
           "values": [
            27.364464447629768
           ]
          },
          {
           "axis": {
            "matches": true
           },
           "label": "PC 2",
           "values": [
            -22.545847122955752
           ]
          },
          {
           "axis": {
            "matches": true
           },
           "label": "PC 3",
           "values": [
            0.07015903879517943
           ]
          },
          {
           "axis": {
            "matches": true
           },
           "label": "PC 4",
           "values": [
            -12.276800083698985
           ]
          },
          {
           "axis": {
            "matches": true
           },
           "label": "PC 5",
           "values": [
            -1.0420603677387918
           ]
          }
         ],
         "hovertemplate": "color=Bv6749201G<br>%{xaxis.title.text}=%{x}<br>%{yaxis.title.text}=%{y}<extra></extra>",
         "legendgroup": "Bv6749201G",
         "marker": {
          "color": "#FFA15A",
          "symbol": "circle"
         },
         "name": "Bv6749201G",
         "showlegend": true,
         "type": "splom"
        },
        {
         "diagonal": {
          "visible": false
         },
         "dimensions": [
          {
           "axis": {
            "matches": true
           },
           "label": "PC 1",
           "values": [
            -12.754161649298375
           ]
          },
          {
           "axis": {
            "matches": true
           },
           "label": "PC 2",
           "values": [
            3.5530547876902183
           ]
          },
          {
           "axis": {
            "matches": true
           },
           "label": "PC 3",
           "values": [
            -19.58387427951443
           ]
          },
          {
           "axis": {
            "matches": true
           },
           "label": "PC 4",
           "values": [
            -12.603753761650331
           ]
          },
          {
           "axis": {
            "matches": true
           },
           "label": "PC 5",
           "values": [
            -4.721109171152008
           ]
          }
         ],
         "hovertemplate": "color=Bv6749301G<br>%{xaxis.title.text}=%{x}<br>%{yaxis.title.text}=%{y}<extra></extra>",
         "legendgroup": "Bv6749301G",
         "marker": {
          "color": "#19d3f3",
          "symbol": "circle"
         },
         "name": "Bv6749301G",
         "showlegend": true,
         "type": "splom"
        },
        {
         "diagonal": {
          "visible": false
         },
         "dimensions": [
          {
           "axis": {
            "matches": true
           },
           "label": "PC 1",
           "values": [
            -11.09526665867428
           ]
          },
          {
           "axis": {
            "matches": true
           },
           "label": "PC 2",
           "values": [
            0.5804569343112679
           ]
          },
          {
           "axis": {
            "matches": true
           },
           "label": "PC 3",
           "values": [
            -6.9156280622498425
           ]
          },
          {
           "axis": {
            "matches": true
           },
           "label": "PC 4",
           "values": [
            -17.56157072673876
           ]
          },
          {
           "axis": {
            "matches": true
           },
           "label": "PC 5",
           "values": [
            5.5786731892365475
           ]
          }
         ],
         "hovertemplate": "color=Bv6749401G<br>%{xaxis.title.text}=%{x}<br>%{yaxis.title.text}=%{y}<extra></extra>",
         "legendgroup": "Bv6749401G",
         "marker": {
          "color": "#FF6692",
          "symbol": "circle"
         },
         "name": "Bv6749401G",
         "showlegend": true,
         "type": "splom"
        },
        {
         "diagonal": {
          "visible": false
         },
         "dimensions": [
          {
           "axis": {
            "matches": true
           },
           "label": "PC 1",
           "values": [
            22.748574952589564
           ]
          },
          {
           "axis": {
            "matches": true
           },
           "label": "PC 2",
           "values": [
            -15.82855555080258
           ]
          },
          {
           "axis": {
            "matches": true
           },
           "label": "PC 3",
           "values": [
            15.313586550425127
           ]
          },
          {
           "axis": {
            "matches": true
           },
           "label": "PC 4",
           "values": [
            0.1286655515187071
           ]
          },
          {
           "axis": {
            "matches": true
           },
           "label": "PC 5",
           "values": [
            8.161562770443071
           ]
          }
         ],
         "hovertemplate": "color=Bv6749501G<br>%{xaxis.title.text}=%{x}<br>%{yaxis.title.text}=%{y}<extra></extra>",
         "legendgroup": "Bv6749501G",
         "marker": {
          "color": "#B6E880",
          "symbol": "circle"
         },
         "name": "Bv6749501G",
         "showlegend": true,
         "type": "splom"
        },
        {
         "diagonal": {
          "visible": false
         },
         "dimensions": [
          {
           "axis": {
            "matches": true
           },
           "label": "PC 1",
           "values": [
            28.867636492655826
           ]
          },
          {
           "axis": {
            "matches": true
           },
           "label": "PC 2",
           "values": [
            -26.56174390169043
           ]
          },
          {
           "axis": {
            "matches": true
           },
           "label": "PC 3",
           "values": [
            3.18001732017163
           ]
          },
          {
           "axis": {
            "matches": true
           },
           "label": "PC 4",
           "values": [
            5.785135466315185
           ]
          },
          {
           "axis": {
            "matches": true
           },
           "label": "PC 5",
           "values": [
            -15.75860327462458
           ]
          }
         ],
         "hovertemplate": "color=Bv6749601G<br>%{xaxis.title.text}=%{x}<br>%{yaxis.title.text}=%{y}<extra></extra>",
         "legendgroup": "Bv6749601G",
         "marker": {
          "color": "#FF97FF",
          "symbol": "circle"
         },
         "name": "Bv6749601G",
         "showlegend": true,
         "type": "splom"
        },
        {
         "diagonal": {
          "visible": false
         },
         "dimensions": [
          {
           "axis": {
            "matches": true
           },
           "label": "PC 1",
           "values": [
            32.53210400805225
           ]
          },
          {
           "axis": {
            "matches": true
           },
           "label": "PC 2",
           "values": [
            -19.96366805315844
           ]
          },
          {
           "axis": {
            "matches": true
           },
           "label": "PC 3",
           "values": [
            -2.9810147066588004
           ]
          },
          {
           "axis": {
            "matches": true
           },
           "label": "PC 4",
           "values": [
            -12.275547762893229
           ]
          },
          {
           "axis": {
            "matches": true
           },
           "label": "PC 5",
           "values": [
            -11.251284906769603
           ]
          }
         ],
         "hovertemplate": "color=Bv6749701G<br>%{xaxis.title.text}=%{x}<br>%{yaxis.title.text}=%{y}<extra></extra>",
         "legendgroup": "Bv6749701G",
         "marker": {
          "color": "#FECB52",
          "symbol": "circle"
         },
         "name": "Bv6749701G",
         "showlegend": true,
         "type": "splom"
        },
        {
         "diagonal": {
          "visible": false
         },
         "dimensions": [
          {
           "axis": {
            "matches": true
           },
           "label": "PC 1",
           "values": [
            25.68308545242204
           ]
          },
          {
           "axis": {
            "matches": true
           },
           "label": "PC 2",
           "values": [
            -18.90154345630473
           ]
          },
          {
           "axis": {
            "matches": true
           },
           "label": "PC 3",
           "values": [
            7.689069043030234
           ]
          },
          {
           "axis": {
            "matches": true
           },
           "label": "PC 4",
           "values": [
            -6.479479158013331
           ]
          },
          {
           "axis": {
            "matches": true
           },
           "label": "PC 5",
           "values": [
            1.7207452052857164
           ]
          }
         ],
         "hovertemplate": "color=Bv6749801G<br>%{xaxis.title.text}=%{x}<br>%{yaxis.title.text}=%{y}<extra></extra>",
         "legendgroup": "Bv6749801G",
         "marker": {
          "color": "#636efa",
          "symbol": "circle"
         },
         "name": "Bv6749801G",
         "showlegend": true,
         "type": "splom"
        },
        {
         "diagonal": {
          "visible": false
         },
         "dimensions": [
          {
           "axis": {
            "matches": true
           },
           "label": "PC 1",
           "values": [
            0.8000145364327292
           ]
          },
          {
           "axis": {
            "matches": true
           },
           "label": "PC 2",
           "values": [
            3.6414216330851765
           ]
          },
          {
           "axis": {
            "matches": true
           },
           "label": "PC 3",
           "values": [
            2.4397682421350906
           ]
          },
          {
           "axis": {
            "matches": true
           },
           "label": "PC 4",
           "values": [
            1.232934772259099
           ]
          },
          {
           "axis": {
            "matches": true
           },
           "label": "PC 5",
           "values": [
            20.772292399922705
           ]
          }
         ],
         "hovertemplate": "color=Bv6749901G<br>%{xaxis.title.text}=%{x}<br>%{yaxis.title.text}=%{y}<extra></extra>",
         "legendgroup": "Bv6749901G",
         "marker": {
          "color": "#EF553B",
          "symbol": "circle"
         },
         "name": "Bv6749901G",
         "showlegend": true,
         "type": "splom"
        },
        {
         "diagonal": {
          "visible": false
         },
         "dimensions": [
          {
           "axis": {
            "matches": true
           },
           "label": "PC 1",
           "values": [
            -16.681801184629343
           ]
          },
          {
           "axis": {
            "matches": true
           },
           "label": "PC 2",
           "values": [
            4.981010169164491
           ]
          },
          {
           "axis": {
            "matches": true
           },
           "label": "PC 3",
           "values": [
            2.425747575343462
           ]
          },
          {
           "axis": {
            "matches": true
           },
           "label": "PC 4",
           "values": [
            8.58119551948717
           ]
          },
          {
           "axis": {
            "matches": true
           },
           "label": "PC 5",
           "values": [
            18.888663085400957
           ]
          }
         ],
         "hovertemplate": "color=Bv6750001G<br>%{xaxis.title.text}=%{x}<br>%{yaxis.title.text}=%{y}<extra></extra>",
         "legendgroup": "Bv6750001G",
         "marker": {
          "color": "#00cc96",
          "symbol": "circle"
         },
         "name": "Bv6750001G",
         "showlegend": true,
         "type": "splom"
        },
        {
         "diagonal": {
          "visible": false
         },
         "dimensions": [
          {
           "axis": {
            "matches": true
           },
           "label": "PC 1",
           "values": [
            -16.472667789277676
           ]
          },
          {
           "axis": {
            "matches": true
           },
           "label": "PC 2",
           "values": [
            8.78928516792571
           ]
          },
          {
           "axis": {
            "matches": true
           },
           "label": "PC 3",
           "values": [
            -1.6479360810244217
           ]
          },
          {
           "axis": {
            "matches": true
           },
           "label": "PC 4",
           "values": [
            -2.828945440680848
           ]
          },
          {
           "axis": {
            "matches": true
           },
           "label": "PC 5",
           "values": [
            15.562830517224992
           ]
          }
         ],
         "hovertemplate": "color=Bv6750101G<br>%{xaxis.title.text}=%{x}<br>%{yaxis.title.text}=%{y}<extra></extra>",
         "legendgroup": "Bv6750101G",
         "marker": {
          "color": "#ab63fa",
          "symbol": "circle"
         },
         "name": "Bv6750101G",
         "showlegend": true,
         "type": "splom"
        },
        {
         "diagonal": {
          "visible": false
         },
         "dimensions": [
          {
           "axis": {
            "matches": true
           },
           "label": "PC 1",
           "values": [
            -13.342851607665784
           ]
          },
          {
           "axis": {
            "matches": true
           },
           "label": "PC 2",
           "values": [
            9.770678189115467
           ]
          },
          {
           "axis": {
            "matches": true
           },
           "label": "PC 3",
           "values": [
            -19.21951787936066
           ]
          },
          {
           "axis": {
            "matches": true
           },
           "label": "PC 4",
           "values": [
            -15.278036487934793
           ]
          },
          {
           "axis": {
            "matches": true
           },
           "label": "PC 5",
           "values": [
            -1.2220197513067497
           ]
          }
         ],
         "hovertemplate": "color=Bv6750201G<br>%{xaxis.title.text}=%{x}<br>%{yaxis.title.text}=%{y}<extra></extra>",
         "legendgroup": "Bv6750201G",
         "marker": {
          "color": "#FFA15A",
          "symbol": "circle"
         },
         "name": "Bv6750201G",
         "showlegend": true,
         "type": "splom"
        },
        {
         "diagonal": {
          "visible": false
         },
         "dimensions": [
          {
           "axis": {
            "matches": true
           },
           "label": "PC 1",
           "values": [
            30.02690998895376
           ]
          },
          {
           "axis": {
            "matches": true
           },
           "label": "PC 2",
           "values": [
            -17.56584249858482
           ]
          },
          {
           "axis": {
            "matches": true
           },
           "label": "PC 3",
           "values": [
            1.9004094238343
           ]
          },
          {
           "axis": {
            "matches": true
           },
           "label": "PC 4",
           "values": [
            1.0055081412183728
           ]
          },
          {
           "axis": {
            "matches": true
           },
           "label": "PC 5",
           "values": [
            0.22016002574552748
           ]
          }
         ],
         "hovertemplate": "color=Bv6750301G<br>%{xaxis.title.text}=%{x}<br>%{yaxis.title.text}=%{y}<extra></extra>",
         "legendgroup": "Bv6750301G",
         "marker": {
          "color": "#19d3f3",
          "symbol": "circle"
         },
         "name": "Bv6750301G",
         "showlegend": true,
         "type": "splom"
        },
        {
         "diagonal": {
          "visible": false
         },
         "dimensions": [
          {
           "axis": {
            "matches": true
           },
           "label": "PC 1",
           "values": [
            -11.399451158052775
           ]
          },
          {
           "axis": {
            "matches": true
           },
           "label": "PC 2",
           "values": [
            16.78827635702692
           ]
          },
          {
           "axis": {
            "matches": true
           },
           "label": "PC 3",
           "values": [
            -0.9088580549294517
           ]
          },
          {
           "axis": {
            "matches": true
           },
           "label": "PC 4",
           "values": [
            -27.58672964682498
           ]
          },
          {
           "axis": {
            "matches": true
           },
           "label": "PC 5",
           "values": [
            6.247036647358504
           ]
          }
         ],
         "hovertemplate": "color=Bv6750401G<br>%{xaxis.title.text}=%{x}<br>%{yaxis.title.text}=%{y}<extra></extra>",
         "legendgroup": "Bv6750401G",
         "marker": {
          "color": "#FF6692",
          "symbol": "circle"
         },
         "name": "Bv6750401G",
         "showlegend": true,
         "type": "splom"
        },
        {
         "diagonal": {
          "visible": false
         },
         "dimensions": [
          {
           "axis": {
            "matches": true
           },
           "label": "PC 1",
           "values": [
            30.850635331043765
           ]
          },
          {
           "axis": {
            "matches": true
           },
           "label": "PC 2",
           "values": [
            -24.212930196251985
           ]
          },
          {
           "axis": {
            "matches": true
           },
           "label": "PC 3",
           "values": [
            1.5081841045607733
           ]
          },
          {
           "axis": {
            "matches": true
           },
           "label": "PC 4",
           "values": [
            -8.94710058036827
           ]
          },
          {
           "axis": {
            "matches": true
           },
           "label": "PC 5",
           "values": [
            -7.9996170594313085
           ]
          }
         ],
         "hovertemplate": "color=Bv6750501G<br>%{xaxis.title.text}=%{x}<br>%{yaxis.title.text}=%{y}<extra></extra>",
         "legendgroup": "Bv6750501G",
         "marker": {
          "color": "#B6E880",
          "symbol": "circle"
         },
         "name": "Bv6750501G",
         "showlegend": true,
         "type": "splom"
        },
        {
         "diagonal": {
          "visible": false
         },
         "dimensions": [
          {
           "axis": {
            "matches": true
           },
           "label": "PC 1",
           "values": [
            -16.45286423197124
           ]
          },
          {
           "axis": {
            "matches": true
           },
           "label": "PC 2",
           "values": [
            9.73968149163428
           ]
          },
          {
           "axis": {
            "matches": true
           },
           "label": "PC 3",
           "values": [
            -28.710403795922403
           ]
          },
          {
           "axis": {
            "matches": true
           },
           "label": "PC 4",
           "values": [
            -32.429736588590515
           ]
          },
          {
           "axis": {
            "matches": true
           },
           "label": "PC 5",
           "values": [
            -21.16419609733706
           ]
          }
         ],
         "hovertemplate": "color=Bv6750601G<br>%{xaxis.title.text}=%{x}<br>%{yaxis.title.text}=%{y}<extra></extra>",
         "legendgroup": "Bv6750601G",
         "marker": {
          "color": "#FF97FF",
          "symbol": "circle"
         },
         "name": "Bv6750601G",
         "showlegend": true,
         "type": "splom"
        },
        {
         "diagonal": {
          "visible": false
         },
         "dimensions": [
          {
           "axis": {
            "matches": true
           },
           "label": "PC 1",
           "values": [
            29.165705538585865
           ]
          },
          {
           "axis": {
            "matches": true
           },
           "label": "PC 2",
           "values": [
            -20.558965908223172
           ]
          },
          {
           "axis": {
            "matches": true
           },
           "label": "PC 3",
           "values": [
            1.5470555381907247
           ]
          },
          {
           "axis": {
            "matches": true
           },
           "label": "PC 4",
           "values": [
            -11.769205175996696
           ]
          },
          {
           "axis": {
            "matches": true
           },
           "label": "PC 5",
           "values": [
            -7.554248202426771
           ]
          }
         ],
         "hovertemplate": "color=Bv6750701G<br>%{xaxis.title.text}=%{x}<br>%{yaxis.title.text}=%{y}<extra></extra>",
         "legendgroup": "Bv6750701G",
         "marker": {
          "color": "#FECB52",
          "symbol": "circle"
         },
         "name": "Bv6750701G",
         "showlegend": true,
         "type": "splom"
        },
        {
         "diagonal": {
          "visible": false
         },
         "dimensions": [
          {
           "axis": {
            "matches": true
           },
           "label": "PC 1",
           "values": [
            -24.939834033894567
           ]
          },
          {
           "axis": {
            "matches": true
           },
           "label": "PC 2",
           "values": [
            13.745198933065552
           ]
          },
          {
           "axis": {
            "matches": true
           },
           "label": "PC 3",
           "values": [
            11.833730474197829
           ]
          },
          {
           "axis": {
            "matches": true
           },
           "label": "PC 4",
           "values": [
            -14.724610068393995
           ]
          },
          {
           "axis": {
            "matches": true
           },
           "label": "PC 5",
           "values": [
            -7.758232334459055
           ]
          }
         ],
         "hovertemplate": "color=Bv6750801G<br>%{xaxis.title.text}=%{x}<br>%{yaxis.title.text}=%{y}<extra></extra>",
         "legendgroup": "Bv6750801G",
         "marker": {
          "color": "#636efa",
          "symbol": "circle"
         },
         "name": "Bv6750801G",
         "showlegend": true,
         "type": "splom"
        },
        {
         "diagonal": {
          "visible": false
         },
         "dimensions": [
          {
           "axis": {
            "matches": true
           },
           "label": "PC 1",
           "values": [
            -17.994035989135153
           ]
          },
          {
           "axis": {
            "matches": true
           },
           "label": "PC 2",
           "values": [
            7.784335164291927
           ]
          },
          {
           "axis": {
            "matches": true
           },
           "label": "PC 3",
           "values": [
            -36.14119750138583
           ]
          },
          {
           "axis": {
            "matches": true
           },
           "label": "PC 4",
           "values": [
            -33.749570966526456
           ]
          },
          {
           "axis": {
            "matches": true
           },
           "label": "PC 5",
           "values": [
            -6.372364593547754
           ]
          }
         ],
         "hovertemplate": "color=Bv6750901G<br>%{xaxis.title.text}=%{x}<br>%{yaxis.title.text}=%{y}<extra></extra>",
         "legendgroup": "Bv6750901G",
         "marker": {
          "color": "#EF553B",
          "symbol": "circle"
         },
         "name": "Bv6750901G",
         "showlegend": true,
         "type": "splom"
        },
        {
         "diagonal": {
          "visible": false
         },
         "dimensions": [
          {
           "axis": {
            "matches": true
           },
           "label": "PC 1",
           "values": [
            -12.58000613724471
           ]
          },
          {
           "axis": {
            "matches": true
           },
           "label": "PC 2",
           "values": [
            1.1586862656031192
           ]
          },
          {
           "axis": {
            "matches": true
           },
           "label": "PC 3",
           "values": [
            -8.937064367130903
           ]
          },
          {
           "axis": {
            "matches": true
           },
           "label": "PC 4",
           "values": [
            -2.096039517647285
           ]
          },
          {
           "axis": {
            "matches": true
           },
           "label": "PC 5",
           "values": [
            0.21156319429279802
           ]
          }
         ],
         "hovertemplate": "color=Bv6751001G<br>%{xaxis.title.text}=%{x}<br>%{yaxis.title.text}=%{y}<extra></extra>",
         "legendgroup": "Bv6751001G",
         "marker": {
          "color": "#00cc96",
          "symbol": "circle"
         },
         "name": "Bv6751001G",
         "showlegend": true,
         "type": "splom"
        },
        {
         "diagonal": {
          "visible": false
         },
         "dimensions": [
          {
           "axis": {
            "matches": true
           },
           "label": "PC 1",
           "values": [
            -3.2779368501505033
           ]
          },
          {
           "axis": {
            "matches": true
           },
           "label": "PC 2",
           "values": [
            4.4986077742311945
           ]
          },
          {
           "axis": {
            "matches": true
           },
           "label": "PC 3",
           "values": [
            8.453978971913632
           ]
          },
          {
           "axis": {
            "matches": true
           },
           "label": "PC 4",
           "values": [
            0.7618994851242283
           ]
          },
          {
           "axis": {
            "matches": true
           },
           "label": "PC 5",
           "values": [
            21.924193520135166
           ]
          }
         ],
         "hovertemplate": "color=Bv6751101G<br>%{xaxis.title.text}=%{x}<br>%{yaxis.title.text}=%{y}<extra></extra>",
         "legendgroup": "Bv6751101G",
         "marker": {
          "color": "#ab63fa",
          "symbol": "circle"
         },
         "name": "Bv6751101G",
         "showlegend": true,
         "type": "splom"
        },
        {
         "diagonal": {
          "visible": false
         },
         "dimensions": [
          {
           "axis": {
            "matches": true
           },
           "label": "PC 1",
           "values": [
            -19.536112687339493
           ]
          },
          {
           "axis": {
            "matches": true
           },
           "label": "PC 2",
           "values": [
            15.515727937052905
           ]
          },
          {
           "axis": {
            "matches": true
           },
           "label": "PC 3",
           "values": [
            52.91046579789239
           ]
          },
          {
           "axis": {
            "matches": true
           },
           "label": "PC 4",
           "values": [
            -0.325538199742465
           ]
          },
          {
           "axis": {
            "matches": true
           },
           "label": "PC 5",
           "values": [
            -2.140095544150661
           ]
          }
         ],
         "hovertemplate": "color=Bv6751201G<br>%{xaxis.title.text}=%{x}<br>%{yaxis.title.text}=%{y}<extra></extra>",
         "legendgroup": "Bv6751201G",
         "marker": {
          "color": "#FFA15A",
          "symbol": "circle"
         },
         "name": "Bv6751201G",
         "showlegend": true,
         "type": "splom"
        },
        {
         "diagonal": {
          "visible": false
         },
         "dimensions": [
          {
           "axis": {
            "matches": true
           },
           "label": "PC 1",
           "values": [
            -21.923105623149738
           ]
          },
          {
           "axis": {
            "matches": true
           },
           "label": "PC 2",
           "values": [
            13.205280207279737
           ]
          },
          {
           "axis": {
            "matches": true
           },
           "label": "PC 3",
           "values": [
            -22.886941739428664
           ]
          },
          {
           "axis": {
            "matches": true
           },
           "label": "PC 4",
           "values": [
            -26.829666940973496
           ]
          },
          {
           "axis": {
            "matches": true
           },
           "label": "PC 5",
           "values": [
            -10.465281054789568
           ]
          }
         ],
         "hovertemplate": "color=Bv6751301G<br>%{xaxis.title.text}=%{x}<br>%{yaxis.title.text}=%{y}<extra></extra>",
         "legendgroup": "Bv6751301G",
         "marker": {
          "color": "#19d3f3",
          "symbol": "circle"
         },
         "name": "Bv6751301G",
         "showlegend": true,
         "type": "splom"
        },
        {
         "diagonal": {
          "visible": false
         },
         "dimensions": [
          {
           "axis": {
            "matches": true
           },
           "label": "PC 1",
           "values": [
            -22.86358353384727
           ]
          },
          {
           "axis": {
            "matches": true
           },
           "label": "PC 2",
           "values": [
            14.20779271908986
           ]
          },
          {
           "axis": {
            "matches": true
           },
           "label": "PC 3",
           "values": [
            -36.946584232701014
           ]
          },
          {
           "axis": {
            "matches": true
           },
           "label": "PC 4",
           "values": [
            -22.78715013631964
           ]
          },
          {
           "axis": {
            "matches": true
           },
           "label": "PC 5",
           "values": [
            -10.590591972213728
           ]
          }
         ],
         "hovertemplate": "color=Bv6751401G<br>%{xaxis.title.text}=%{x}<br>%{yaxis.title.text}=%{y}<extra></extra>",
         "legendgroup": "Bv6751401G",
         "marker": {
          "color": "#FF6692",
          "symbol": "circle"
         },
         "name": "Bv6751401G",
         "showlegend": true,
         "type": "splom"
        },
        {
         "diagonal": {
          "visible": false
         },
         "dimensions": [
          {
           "axis": {
            "matches": true
           },
           "label": "PC 1",
           "values": [
            -6.655915342310418
           ]
          },
          {
           "axis": {
            "matches": true
           },
           "label": "PC 2",
           "values": [
            0.19195167508133545
           ]
          },
          {
           "axis": {
            "matches": true
           },
           "label": "PC 3",
           "values": [
            19.919426100398443
           ]
          },
          {
           "axis": {
            "matches": true
           },
           "label": "PC 4",
           "values": [
            5.590030632814371
           ]
          },
          {
           "axis": {
            "matches": true
           },
           "label": "PC 5",
           "values": [
            22.296334983218166
           ]
          }
         ],
         "hovertemplate": "color=Bv6751501G<br>%{xaxis.title.text}=%{x}<br>%{yaxis.title.text}=%{y}<extra></extra>",
         "legendgroup": "Bv6751501G",
         "marker": {
          "color": "#B6E880",
          "symbol": "circle"
         },
         "name": "Bv6751501G",
         "showlegend": true,
         "type": "splom"
        },
        {
         "diagonal": {
          "visible": false
         },
         "dimensions": [
          {
           "axis": {
            "matches": true
           },
           "label": "PC 1",
           "values": [
            -25.898287967214376
           ]
          },
          {
           "axis": {
            "matches": true
           },
           "label": "PC 2",
           "values": [
            19.742711412627184
           ]
          },
          {
           "axis": {
            "matches": true
           },
           "label": "PC 3",
           "values": [
            35.35674091853392
           ]
          },
          {
           "axis": {
            "matches": true
           },
           "label": "PC 4",
           "values": [
            -11.65004322269117
           ]
          },
          {
           "axis": {
            "matches": true
           },
           "label": "PC 5",
           "values": [
            -17.111362189237227
           ]
          }
         ],
         "hovertemplate": "color=Bv6751601G<br>%{xaxis.title.text}=%{x}<br>%{yaxis.title.text}=%{y}<extra></extra>",
         "legendgroup": "Bv6751601G",
         "marker": {
          "color": "#FF97FF",
          "symbol": "circle"
         },
         "name": "Bv6751601G",
         "showlegend": true,
         "type": "splom"
        },
        {
         "diagonal": {
          "visible": false
         },
         "dimensions": [
          {
           "axis": {
            "matches": true
           },
           "label": "PC 1",
           "values": [
            -7.64152877260634
           ]
          },
          {
           "axis": {
            "matches": true
           },
           "label": "PC 2",
           "values": [
            -1.3472826354427463
           ]
          },
          {
           "axis": {
            "matches": true
           },
           "label": "PC 3",
           "values": [
            2.686044892225271
           ]
          },
          {
           "axis": {
            "matches": true
           },
           "label": "PC 4",
           "values": [
            3.18919967697889
           ]
          },
          {
           "axis": {
            "matches": true
           },
           "label": "PC 5",
           "values": [
            21.15910960815335
           ]
          }
         ],
         "hovertemplate": "color=Bv6751701G<br>%{xaxis.title.text}=%{x}<br>%{yaxis.title.text}=%{y}<extra></extra>",
         "legendgroup": "Bv6751701G",
         "marker": {
          "color": "#FECB52",
          "symbol": "circle"
         },
         "name": "Bv6751701G",
         "showlegend": true,
         "type": "splom"
        },
        {
         "diagonal": {
          "visible": false
         },
         "dimensions": [
          {
           "axis": {
            "matches": true
           },
           "label": "PC 1",
           "values": [
            31.749841133185143
           ]
          },
          {
           "axis": {
            "matches": true
           },
           "label": "PC 2",
           "values": [
            -22.415147198749857
           ]
          },
          {
           "axis": {
            "matches": true
           },
           "label": "PC 3",
           "values": [
            8.400891708659175
           ]
          },
          {
           "axis": {
            "matches": true
           },
           "label": "PC 4",
           "values": [
            8.581275220479808
           ]
          },
          {
           "axis": {
            "matches": true
           },
           "label": "PC 5",
           "values": [
            -8.23412699344994
           ]
          }
         ],
         "hovertemplate": "color=Bv6751801G<br>%{xaxis.title.text}=%{x}<br>%{yaxis.title.text}=%{y}<extra></extra>",
         "legendgroup": "Bv6751801G",
         "marker": {
          "color": "#636efa",
          "symbol": "circle"
         },
         "name": "Bv6751801G",
         "showlegend": true,
         "type": "splom"
        },
        {
         "diagonal": {
          "visible": false
         },
         "dimensions": [
          {
           "axis": {
            "matches": true
           },
           "label": "PC 1",
           "values": [
            135.26917264287516
           ]
          },
          {
           "axis": {
            "matches": true
           },
           "label": "PC 2",
           "values": [
            162.36462589587344
           ]
          },
          {
           "axis": {
            "matches": true
           },
           "label": "PC 3",
           "values": [
            -12.482180320761024
           ]
          },
          {
           "axis": {
            "matches": true
           },
           "label": "PC 4",
           "values": [
            7.459068818565969
           ]
          },
          {
           "axis": {
            "matches": true
           },
           "label": "PC 5",
           "values": [
            3.5091569071951523
           ]
          }
         ],
         "hovertemplate": "color=Bv6751901G<br>%{xaxis.title.text}=%{x}<br>%{yaxis.title.text}=%{y}<extra></extra>",
         "legendgroup": "Bv6751901G",
         "marker": {
          "color": "#EF553B",
          "symbol": "circle"
         },
         "name": "Bv6751901G",
         "showlegend": true,
         "type": "splom"
        },
        {
         "diagonal": {
          "visible": false
         },
         "dimensions": [
          {
           "axis": {
            "matches": true
           },
           "label": "PC 1",
           "values": [
            24.657042372655823
           ]
          },
          {
           "axis": {
            "matches": true
           },
           "label": "PC 2",
           "values": [
            -22.849615667436012
           ]
          },
          {
           "axis": {
            "matches": true
           },
           "label": "PC 3",
           "values": [
            11.511491175853841
           ]
          },
          {
           "axis": {
            "matches": true
           },
           "label": "PC 4",
           "values": [
            -0.6681509833391581
           ]
          },
          {
           "axis": {
            "matches": true
           },
           "label": "PC 5",
           "values": [
            -0.09414904989126327
           ]
          }
         ],
         "hovertemplate": "color=Bv6752001G<br>%{xaxis.title.text}=%{x}<br>%{yaxis.title.text}=%{y}<extra></extra>",
         "legendgroup": "Bv6752001G",
         "marker": {
          "color": "#00cc96",
          "symbol": "circle"
         },
         "name": "Bv6752001G",
         "showlegend": true,
         "type": "splom"
        },
        {
         "diagonal": {
          "visible": false
         },
         "dimensions": [
          {
           "axis": {
            "matches": true
           },
           "label": "PC 1",
           "values": [
            -7.593873412180271
           ]
          },
          {
           "axis": {
            "matches": true
           },
           "label": "PC 2",
           "values": [
            -3.0072880233715154
           ]
          },
          {
           "axis": {
            "matches": true
           },
           "label": "PC 3",
           "values": [
            -12.002694913658733
           ]
          },
          {
           "axis": {
            "matches": true
           },
           "label": "PC 4",
           "values": [
            3.1512371618836044
           ]
          },
          {
           "axis": {
            "matches": true
           },
           "label": "PC 5",
           "values": [
            28.624602017315958
           ]
          }
         ],
         "hovertemplate": "color=Bv6752101G<br>%{xaxis.title.text}=%{x}<br>%{yaxis.title.text}=%{y}<extra></extra>",
         "legendgroup": "Bv6752101G",
         "marker": {
          "color": "#ab63fa",
          "symbol": "circle"
         },
         "name": "Bv6752101G",
         "showlegend": true,
         "type": "splom"
        },
        {
         "diagonal": {
          "visible": false
         },
         "dimensions": [
          {
           "axis": {
            "matches": true
           },
           "label": "PC 1",
           "values": [
            -8.361362631610438
           ]
          },
          {
           "axis": {
            "matches": true
           },
           "label": "PC 2",
           "values": [
            -2.2681348022711854
           ]
          },
          {
           "axis": {
            "matches": true
           },
           "label": "PC 3",
           "values": [
            -11.50326415734625
           ]
          },
          {
           "axis": {
            "matches": true
           },
           "label": "PC 4",
           "values": [
            8.75044929821897
           ]
          },
          {
           "axis": {
            "matches": true
           },
           "label": "PC 5",
           "values": [
            33.61792869938903
           ]
          }
         ],
         "hovertemplate": "color=Bv6752201G<br>%{xaxis.title.text}=%{x}<br>%{yaxis.title.text}=%{y}<extra></extra>",
         "legendgroup": "Bv6752201G",
         "marker": {
          "color": "#FFA15A",
          "symbol": "circle"
         },
         "name": "Bv6752201G",
         "showlegend": true,
         "type": "splom"
        },
        {
         "diagonal": {
          "visible": false
         },
         "dimensions": [
          {
           "axis": {
            "matches": true
           },
           "label": "PC 1",
           "values": [
            -21.179493868549343
           ]
          },
          {
           "axis": {
            "matches": true
           },
           "label": "PC 2",
           "values": [
            8.376403908085862
           ]
          },
          {
           "axis": {
            "matches": true
           },
           "label": "PC 3",
           "values": [
            -14.391079895458233
           ]
          },
          {
           "axis": {
            "matches": true
           },
           "label": "PC 4",
           "values": [
            -8.332598856830288
           ]
          },
          {
           "axis": {
            "matches": true
           },
           "label": "PC 5",
           "values": [
            -4.111000832663619
           ]
          }
         ],
         "hovertemplate": "color=Bv6752301G<br>%{xaxis.title.text}=%{x}<br>%{yaxis.title.text}=%{y}<extra></extra>",
         "legendgroup": "Bv6752301G",
         "marker": {
          "color": "#19d3f3",
          "symbol": "circle"
         },
         "name": "Bv6752301G",
         "showlegend": true,
         "type": "splom"
        },
        {
         "diagonal": {
          "visible": false
         },
         "dimensions": [
          {
           "axis": {
            "matches": true
           },
           "label": "PC 1",
           "values": [
            28.421523550837264
           ]
          },
          {
           "axis": {
            "matches": true
           },
           "label": "PC 2",
           "values": [
            -21.75724895360121
           ]
          },
          {
           "axis": {
            "matches": true
           },
           "label": "PC 3",
           "values": [
            3.92505453954725
           ]
          },
          {
           "axis": {
            "matches": true
           },
           "label": "PC 4",
           "values": [
            8.744909604052335
           ]
          },
          {
           "axis": {
            "matches": true
           },
           "label": "PC 5",
           "values": [
            -1.9694469838940603
           ]
          }
         ],
         "hovertemplate": "color=Bv6752401G<br>%{xaxis.title.text}=%{x}<br>%{yaxis.title.text}=%{y}<extra></extra>",
         "legendgroup": "Bv6752401G",
         "marker": {
          "color": "#FF6692",
          "symbol": "circle"
         },
         "name": "Bv6752401G",
         "showlegend": true,
         "type": "splom"
        },
        {
         "diagonal": {
          "visible": false
         },
         "dimensions": [
          {
           "axis": {
            "matches": true
           },
           "label": "PC 1",
           "values": [
            7.3170903742649855
           ]
          },
          {
           "axis": {
            "matches": true
           },
           "label": "PC 2",
           "values": [
            -8.043319074698735
           ]
          },
          {
           "axis": {
            "matches": true
           },
           "label": "PC 3",
           "values": [
            -10.108052101016527
           ]
          },
          {
           "axis": {
            "matches": true
           },
           "label": "PC 4",
           "values": [
            -12.18766052553858
           ]
          },
          {
           "axis": {
            "matches": true
           },
           "label": "PC 5",
           "values": [
            -7.513147828934842
           ]
          }
         ],
         "hovertemplate": "color=Bv6752501G<br>%{xaxis.title.text}=%{x}<br>%{yaxis.title.text}=%{y}<extra></extra>",
         "legendgroup": "Bv6752501G",
         "marker": {
          "color": "#B6E880",
          "symbol": "circle"
         },
         "name": "Bv6752501G",
         "showlegend": true,
         "type": "splom"
        },
        {
         "diagonal": {
          "visible": false
         },
         "dimensions": [
          {
           "axis": {
            "matches": true
           },
           "label": "PC 1",
           "values": [
            24.832580947484562
           ]
          },
          {
           "axis": {
            "matches": true
           },
           "label": "PC 2",
           "values": [
            -20.383541390186576
           ]
          },
          {
           "axis": {
            "matches": true
           },
           "label": "PC 3",
           "values": [
            -3.950081537345662
           ]
          },
          {
           "axis": {
            "matches": true
           },
           "label": "PC 4",
           "values": [
            -8.973742938171208
           ]
          },
          {
           "axis": {
            "matches": true
           },
           "label": "PC 5",
           "values": [
            -3.5806304962126254
           ]
          }
         ],
         "hovertemplate": "color=Bv6752601G<br>%{xaxis.title.text}=%{x}<br>%{yaxis.title.text}=%{y}<extra></extra>",
         "legendgroup": "Bv6752601G",
         "marker": {
          "color": "#FF97FF",
          "symbol": "circle"
         },
         "name": "Bv6752601G",
         "showlegend": true,
         "type": "splom"
        },
        {
         "diagonal": {
          "visible": false
         },
         "dimensions": [
          {
           "axis": {
            "matches": true
           },
           "label": "PC 1",
           "values": [
            30.479851022907457
           ]
          },
          {
           "axis": {
            "matches": true
           },
           "label": "PC 2",
           "values": [
            -18.244244788959257
           ]
          },
          {
           "axis": {
            "matches": true
           },
           "label": "PC 3",
           "values": [
            19.282839751861985
           ]
          },
          {
           "axis": {
            "matches": true
           },
           "label": "PC 4",
           "values": [
            0.688374909695788
           ]
          },
          {
           "axis": {
            "matches": true
           },
           "label": "PC 5",
           "values": [
            -1.5099721853569439
           ]
          }
         ],
         "hovertemplate": "color=Bv6752701G<br>%{xaxis.title.text}=%{x}<br>%{yaxis.title.text}=%{y}<extra></extra>",
         "legendgroup": "Bv6752701G",
         "marker": {
          "color": "#FECB52",
          "symbol": "circle"
         },
         "name": "Bv6752701G",
         "showlegend": true,
         "type": "splom"
        },
        {
         "diagonal": {
          "visible": false
         },
         "dimensions": [
          {
           "axis": {
            "matches": true
           },
           "label": "PC 1",
           "values": [
            -12.057419937715018
           ]
          },
          {
           "axis": {
            "matches": true
           },
           "label": "PC 2",
           "values": [
            7.658378395562671
           ]
          },
          {
           "axis": {
            "matches": true
           },
           "label": "PC 3",
           "values": [
            -10.525261148214415
           ]
          },
          {
           "axis": {
            "matches": true
           },
           "label": "PC 4",
           "values": [
            -3.513062299894524
           ]
          },
          {
           "axis": {
            "matches": true
           },
           "label": "PC 5",
           "values": [
            -0.13635041521683827
           ]
          }
         ],
         "hovertemplate": "color=Bv6752801G<br>%{xaxis.title.text}=%{x}<br>%{yaxis.title.text}=%{y}<extra></extra>",
         "legendgroup": "Bv6752801G",
         "marker": {
          "color": "#636efa",
          "symbol": "circle"
         },
         "name": "Bv6752801G",
         "showlegend": true,
         "type": "splom"
        },
        {
         "diagonal": {
          "visible": false
         },
         "dimensions": [
          {
           "axis": {
            "matches": true
           },
           "label": "PC 1",
           "values": [
            -13.835388640893767
           ]
          },
          {
           "axis": {
            "matches": true
           },
           "label": "PC 2",
           "values": [
            4.92369867828178
           ]
          },
          {
           "axis": {
            "matches": true
           },
           "label": "PC 3",
           "values": [
            -11.130414294134248
           ]
          },
          {
           "axis": {
            "matches": true
           },
           "label": "PC 4",
           "values": [
            5.712569735412053
           ]
          },
          {
           "axis": {
            "matches": true
           },
           "label": "PC 5",
           "values": [
            4.360985366974256
           ]
          }
         ],
         "hovertemplate": "color=Bv6752901G<br>%{xaxis.title.text}=%{x}<br>%{yaxis.title.text}=%{y}<extra></extra>",
         "legendgroup": "Bv6752901G",
         "marker": {
          "color": "#EF553B",
          "symbol": "circle"
         },
         "name": "Bv6752901G",
         "showlegend": true,
         "type": "splom"
        },
        {
         "diagonal": {
          "visible": false
         },
         "dimensions": [
          {
           "axis": {
            "matches": true
           },
           "label": "PC 1",
           "values": [
            27.06281770352535
           ]
          },
          {
           "axis": {
            "matches": true
           },
           "label": "PC 2",
           "values": [
            -24.509228252839833
           ]
          },
          {
           "axis": {
            "matches": true
           },
           "label": "PC 3",
           "values": [
            5.537848391487224
           ]
          },
          {
           "axis": {
            "matches": true
           },
           "label": "PC 4",
           "values": [
            7.693946510003613
           ]
          },
          {
           "axis": {
            "matches": true
           },
           "label": "PC 5",
           "values": [
            -4.835431175277788
           ]
          }
         ],
         "hovertemplate": "color=Bv6753001G<br>%{xaxis.title.text}=%{x}<br>%{yaxis.title.text}=%{y}<extra></extra>",
         "legendgroup": "Bv6753001G",
         "marker": {
          "color": "#00cc96",
          "symbol": "circle"
         },
         "name": "Bv6753001G",
         "showlegend": true,
         "type": "splom"
        },
        {
         "diagonal": {
          "visible": false
         },
         "dimensions": [
          {
           "axis": {
            "matches": true
           },
           "label": "PC 1",
           "values": [
            32.62966851512499
           ]
          },
          {
           "axis": {
            "matches": true
           },
           "label": "PC 2",
           "values": [
            -21.42884980266171
           ]
          },
          {
           "axis": {
            "matches": true
           },
           "label": "PC 3",
           "values": [
            12.588061096847397
           ]
          },
          {
           "axis": {
            "matches": true
           },
           "label": "PC 4",
           "values": [
            -7.613144159331227
           ]
          },
          {
           "axis": {
            "matches": true
           },
           "label": "PC 5",
           "values": [
            -16.418213391756936
           ]
          }
         ],
         "hovertemplate": "color=Bv6753101G<br>%{xaxis.title.text}=%{x}<br>%{yaxis.title.text}=%{y}<extra></extra>",
         "legendgroup": "Bv6753101G",
         "marker": {
          "color": "#ab63fa",
          "symbol": "circle"
         },
         "name": "Bv6753101G",
         "showlegend": true,
         "type": "splom"
        },
        {
         "diagonal": {
          "visible": false
         },
         "dimensions": [
          {
           "axis": {
            "matches": true
           },
           "label": "PC 1",
           "values": [
            -19.375144450934805
           ]
          },
          {
           "axis": {
            "matches": true
           },
           "label": "PC 2",
           "values": [
            9.549496378788296
           ]
          },
          {
           "axis": {
            "matches": true
           },
           "label": "PC 3",
           "values": [
            6.930879544756842
           ]
          },
          {
           "axis": {
            "matches": true
           },
           "label": "PC 4",
           "values": [
            11.030091826789262
           ]
          },
          {
           "axis": {
            "matches": true
           },
           "label": "PC 5",
           "values": [
            20.367908677569496
           ]
          }
         ],
         "hovertemplate": "color=Bv6753201G<br>%{xaxis.title.text}=%{x}<br>%{yaxis.title.text}=%{y}<extra></extra>",
         "legendgroup": "Bv6753201G",
         "marker": {
          "color": "#FFA15A",
          "symbol": "circle"
         },
         "name": "Bv6753201G",
         "showlegend": true,
         "type": "splom"
        },
        {
         "diagonal": {
          "visible": false
         },
         "dimensions": [
          {
           "axis": {
            "matches": true
           },
           "label": "PC 1",
           "values": [
            6.159270212863951
           ]
          },
          {
           "axis": {
            "matches": true
           },
           "label": "PC 2",
           "values": [
            -14.250704333164506
           ]
          },
          {
           "axis": {
            "matches": true
           },
           "label": "PC 3",
           "values": [
            -4.541128253794085
           ]
          },
          {
           "axis": {
            "matches": true
           },
           "label": "PC 4",
           "values": [
            12.838098664363772
           ]
          },
          {
           "axis": {
            "matches": true
           },
           "label": "PC 5",
           "values": [
            -2.9722221850697514
           ]
          }
         ],
         "hovertemplate": "color=Bv6753301G<br>%{xaxis.title.text}=%{x}<br>%{yaxis.title.text}=%{y}<extra></extra>",
         "legendgroup": "Bv6753301G",
         "marker": {
          "color": "#19d3f3",
          "symbol": "circle"
         },
         "name": "Bv6753301G",
         "showlegend": true,
         "type": "splom"
        },
        {
         "diagonal": {
          "visible": false
         },
         "dimensions": [
          {
           "axis": {
            "matches": true
           },
           "label": "PC 1",
           "values": [
            -23.713021492549515
           ]
          },
          {
           "axis": {
            "matches": true
           },
           "label": "PC 2",
           "values": [
            12.196908001794663
           ]
          },
          {
           "axis": {
            "matches": true
           },
           "label": "PC 3",
           "values": [
            8.050034709655788
           ]
          },
          {
           "axis": {
            "matches": true
           },
           "label": "PC 4",
           "values": [
            19.894498415931825
           ]
          },
          {
           "axis": {
            "matches": true
           },
           "label": "PC 5",
           "values": [
            15.367937822361014
           ]
          }
         ],
         "hovertemplate": "color=Bv6753401G<br>%{xaxis.title.text}=%{x}<br>%{yaxis.title.text}=%{y}<extra></extra>",
         "legendgroup": "Bv6753401G",
         "marker": {
          "color": "#FF6692",
          "symbol": "circle"
         },
         "name": "Bv6753401G",
         "showlegend": true,
         "type": "splom"
        },
        {
         "diagonal": {
          "visible": false
         },
         "dimensions": [
          {
           "axis": {
            "matches": true
           },
           "label": "PC 1",
           "values": [
            29.35098165634775
           ]
          },
          {
           "axis": {
            "matches": true
           },
           "label": "PC 2",
           "values": [
            -9.224441809136477
           ]
          },
          {
           "axis": {
            "matches": true
           },
           "label": "PC 3",
           "values": [
            18.3980459676023
           ]
          },
          {
           "axis": {
            "matches": true
           },
           "label": "PC 4",
           "values": [
            1.139044901363751
           ]
          },
          {
           "axis": {
            "matches": true
           },
           "label": "PC 5",
           "values": [
            2.4104295004176453
           ]
          }
         ],
         "hovertemplate": "color=Bv6753501G<br>%{xaxis.title.text}=%{x}<br>%{yaxis.title.text}=%{y}<extra></extra>",
         "legendgroup": "Bv6753501G",
         "marker": {
          "color": "#B6E880",
          "symbol": "circle"
         },
         "name": "Bv6753501G",
         "showlegend": true,
         "type": "splom"
        },
        {
         "diagonal": {
          "visible": false
         },
         "dimensions": [
          {
           "axis": {
            "matches": true
           },
           "label": "PC 1",
           "values": [
            -15.470731812673405
           ]
          },
          {
           "axis": {
            "matches": true
           },
           "label": "PC 2",
           "values": [
            10.600511512736542
           ]
          },
          {
           "axis": {
            "matches": true
           },
           "label": "PC 3",
           "values": [
            45.871258756996006
           ]
          },
          {
           "axis": {
            "matches": true
           },
           "label": "PC 4",
           "values": [
            -4.4307614476918245
           ]
          },
          {
           "axis": {
            "matches": true
           },
           "label": "PC 5",
           "values": [
            -8.850173712531221
           ]
          }
         ],
         "hovertemplate": "color=Bv6753601G<br>%{xaxis.title.text}=%{x}<br>%{yaxis.title.text}=%{y}<extra></extra>",
         "legendgroup": "Bv6753601G",
         "marker": {
          "color": "#FF97FF",
          "symbol": "circle"
         },
         "name": "Bv6753601G",
         "showlegend": true,
         "type": "splom"
        },
        {
         "diagonal": {
          "visible": false
         },
         "dimensions": [
          {
           "axis": {
            "matches": true
           },
           "label": "PC 1",
           "values": [
            -16.2195179518024
           ]
          },
          {
           "axis": {
            "matches": true
           },
           "label": "PC 2",
           "values": [
            2.3888326047180324
           ]
          },
          {
           "axis": {
            "matches": true
           },
           "label": "PC 3",
           "values": [
            -13.362099474253784
           ]
          },
          {
           "axis": {
            "matches": true
           },
           "label": "PC 4",
           "values": [
            21.689411497120368
           ]
          },
          {
           "axis": {
            "matches": true
           },
           "label": "PC 5",
           "values": [
            -0.08095832161608756
           ]
          }
         ],
         "hovertemplate": "color=Bv6753701G<br>%{xaxis.title.text}=%{x}<br>%{yaxis.title.text}=%{y}<extra></extra>",
         "legendgroup": "Bv6753701G",
         "marker": {
          "color": "#FECB52",
          "symbol": "circle"
         },
         "name": "Bv6753701G",
         "showlegend": true,
         "type": "splom"
        },
        {
         "diagonal": {
          "visible": false
         },
         "dimensions": [
          {
           "axis": {
            "matches": true
           },
           "label": "PC 1",
           "values": [
            -27.97907584164955
           ]
          },
          {
           "axis": {
            "matches": true
           },
           "label": "PC 2",
           "values": [
            17.401462064829463
           ]
          },
          {
           "axis": {
            "matches": true
           },
           "label": "PC 3",
           "values": [
            27.424868402307396
           ]
          },
          {
           "axis": {
            "matches": true
           },
           "label": "PC 4",
           "values": [
            -11.828980715911447
           ]
          },
          {
           "axis": {
            "matches": true
           },
           "label": "PC 5",
           "values": [
            -19.163997729591898
           ]
          }
         ],
         "hovertemplate": "color=Bv6753801G<br>%{xaxis.title.text}=%{x}<br>%{yaxis.title.text}=%{y}<extra></extra>",
         "legendgroup": "Bv6753801G",
         "marker": {
          "color": "#636efa",
          "symbol": "circle"
         },
         "name": "Bv6753801G",
         "showlegend": true,
         "type": "splom"
        },
        {
         "diagonal": {
          "visible": false
         },
         "dimensions": [
          {
           "axis": {
            "matches": true
           },
           "label": "PC 1",
           "values": [
            -26.895074460335785
           ]
          },
          {
           "axis": {
            "matches": true
           },
           "label": "PC 2",
           "values": [
            14.47932594668333
           ]
          },
          {
           "axis": {
            "matches": true
           },
           "label": "PC 3",
           "values": [
            39.14477153899931
           ]
          },
          {
           "axis": {
            "matches": true
           },
           "label": "PC 4",
           "values": [
            -12.864218269052145
           ]
          },
          {
           "axis": {
            "matches": true
           },
           "label": "PC 5",
           "values": [
            -13.821175043061624
           ]
          }
         ],
         "hovertemplate": "color=Bv6753901G<br>%{xaxis.title.text}=%{x}<br>%{yaxis.title.text}=%{y}<extra></extra>",
         "legendgroup": "Bv6753901G",
         "marker": {
          "color": "#EF553B",
          "symbol": "circle"
         },
         "name": "Bv6753901G",
         "showlegend": true,
         "type": "splom"
        },
        {
         "diagonal": {
          "visible": false
         },
         "dimensions": [
          {
           "axis": {
            "matches": true
           },
           "label": "PC 1",
           "values": [
            7.732154292204281
           ]
          },
          {
           "axis": {
            "matches": true
           },
           "label": "PC 2",
           "values": [
            -10.849909784890357
           ]
          },
          {
           "axis": {
            "matches": true
           },
           "label": "PC 3",
           "values": [
            -0.26965299646289614
           ]
          },
          {
           "axis": {
            "matches": true
           },
           "label": "PC 4",
           "values": [
            -0.5093156344694547
           ]
          },
          {
           "axis": {
            "matches": true
           },
           "label": "PC 5",
           "values": [
            7.097105053770122
           ]
          }
         ],
         "hovertemplate": "color=Bv6754001G<br>%{xaxis.title.text}=%{x}<br>%{yaxis.title.text}=%{y}<extra></extra>",
         "legendgroup": "Bv6754001G",
         "marker": {
          "color": "#00cc96",
          "symbol": "circle"
         },
         "name": "Bv6754001G",
         "showlegend": true,
         "type": "splom"
        },
        {
         "diagonal": {
          "visible": false
         },
         "dimensions": [
          {
           "axis": {
            "matches": true
           },
           "label": "PC 1",
           "values": [
            -4.109926539306001
           ]
          },
          {
           "axis": {
            "matches": true
           },
           "label": "PC 2",
           "values": [
            -8.198650387249153
           ]
          },
          {
           "axis": {
            "matches": true
           },
           "label": "PC 3",
           "values": [
            -8.090620959708774
           ]
          },
          {
           "axis": {
            "matches": true
           },
           "label": "PC 4",
           "values": [
            6.858293910931715
           ]
          },
          {
           "axis": {
            "matches": true
           },
           "label": "PC 5",
           "values": [
            26.202802306080866
           ]
          }
         ],
         "hovertemplate": "color=Bv6754101G<br>%{xaxis.title.text}=%{x}<br>%{yaxis.title.text}=%{y}<extra></extra>",
         "legendgroup": "Bv6754101G",
         "marker": {
          "color": "#ab63fa",
          "symbol": "circle"
         },
         "name": "Bv6754101G",
         "showlegend": true,
         "type": "splom"
        },
        {
         "diagonal": {
          "visible": false
         },
         "dimensions": [
          {
           "axis": {
            "matches": true
           },
           "label": "PC 1",
           "values": [
            -33.13103183117379
           ]
          },
          {
           "axis": {
            "matches": true
           },
           "label": "PC 2",
           "values": [
            19.567901957928495
           ]
          },
          {
           "axis": {
            "matches": true
           },
           "label": "PC 3",
           "values": [
            36.34155133659497
           ]
          },
          {
           "axis": {
            "matches": true
           },
           "label": "PC 4",
           "values": [
            -4.39914464000991
           ]
          },
          {
           "axis": {
            "matches": true
           },
           "label": "PC 5",
           "values": [
            -0.934231384760894
           ]
          }
         ],
         "hovertemplate": "color=Bv6754201G<br>%{xaxis.title.text}=%{x}<br>%{yaxis.title.text}=%{y}<extra></extra>",
         "legendgroup": "Bv6754201G",
         "marker": {
          "color": "#FFA15A",
          "symbol": "circle"
         },
         "name": "Bv6754201G",
         "showlegend": true,
         "type": "splom"
        },
        {
         "diagonal": {
          "visible": false
         },
         "dimensions": [
          {
           "axis": {
            "matches": true
           },
           "label": "PC 1",
           "values": [
            -23.092934254322792
           ]
          },
          {
           "axis": {
            "matches": true
           },
           "label": "PC 2",
           "values": [
            25.031164230600986
           ]
          },
          {
           "axis": {
            "matches": true
           },
           "label": "PC 3",
           "values": [
            47.72607517169885
           ]
          },
          {
           "axis": {
            "matches": true
           },
           "label": "PC 4",
           "values": [
            1.9745831308936732
           ]
          },
          {
           "axis": {
            "matches": true
           },
           "label": "PC 5",
           "values": [
            -20.331637604078796
           ]
          }
         ],
         "hovertemplate": "color=Bv6754301G<br>%{xaxis.title.text}=%{x}<br>%{yaxis.title.text}=%{y}<extra></extra>",
         "legendgroup": "Bv6754301G",
         "marker": {
          "color": "#19d3f3",
          "symbol": "circle"
         },
         "name": "Bv6754301G",
         "showlegend": true,
         "type": "splom"
        },
        {
         "diagonal": {
          "visible": false
         },
         "dimensions": [
          {
           "axis": {
            "matches": true
           },
           "label": "PC 1",
           "values": [
            32.67524283777516
           ]
          },
          {
           "axis": {
            "matches": true
           },
           "label": "PC 2",
           "values": [
            -20.8799530973762
           ]
          },
          {
           "axis": {
            "matches": true
           },
           "label": "PC 3",
           "values": [
            17.092182666133453
           ]
          },
          {
           "axis": {
            "matches": true
           },
           "label": "PC 4",
           "values": [
            5.121871288315765
           ]
          },
          {
           "axis": {
            "matches": true
           },
           "label": "PC 5",
           "values": [
            2.8750940332520227
           ]
          }
         ],
         "hovertemplate": "color=Bv6754401G<br>%{xaxis.title.text}=%{x}<br>%{yaxis.title.text}=%{y}<extra></extra>",
         "legendgroup": "Bv6754401G",
         "marker": {
          "color": "#FF6692",
          "symbol": "circle"
         },
         "name": "Bv6754401G",
         "showlegend": true,
         "type": "splom"
        },
        {
         "diagonal": {
          "visible": false
         },
         "dimensions": [
          {
           "axis": {
            "matches": true
           },
           "label": "PC 1",
           "values": [
            -8.655426352276367
           ]
          },
          {
           "axis": {
            "matches": true
           },
           "label": "PC 2",
           "values": [
            -4.0108782782398364
           ]
          },
          {
           "axis": {
            "matches": true
           },
           "label": "PC 3",
           "values": [
            -19.727859793961386
           ]
          },
          {
           "axis": {
            "matches": true
           },
           "label": "PC 4",
           "values": [
            48.959624063506794
           ]
          },
          {
           "axis": {
            "matches": true
           },
           "label": "PC 5",
           "values": [
            -26.869780522964817
           ]
          }
         ],
         "hovertemplate": "color=Bv6754501G<br>%{xaxis.title.text}=%{x}<br>%{yaxis.title.text}=%{y}<extra></extra>",
         "legendgroup": "Bv6754501G",
         "marker": {
          "color": "#B6E880",
          "symbol": "circle"
         },
         "name": "Bv6754501G",
         "showlegend": true,
         "type": "splom"
        },
        {
         "diagonal": {
          "visible": false
         },
         "dimensions": [
          {
           "axis": {
            "matches": true
           },
           "label": "PC 1",
           "values": [
            4.602951740420595
           ]
          },
          {
           "axis": {
            "matches": true
           },
           "label": "PC 2",
           "values": [
            -10.386107798881445
           ]
          },
          {
           "axis": {
            "matches": true
           },
           "label": "PC 3",
           "values": [
            -7.442204307264436
           ]
          },
          {
           "axis": {
            "matches": true
           },
           "label": "PC 4",
           "values": [
            13.690653785720675
           ]
          },
          {
           "axis": {
            "matches": true
           },
           "label": "PC 5",
           "values": [
            22.410996439264796
           ]
          }
         ],
         "hovertemplate": "color=Bv6754601G<br>%{xaxis.title.text}=%{x}<br>%{yaxis.title.text}=%{y}<extra></extra>",
         "legendgroup": "Bv6754601G",
         "marker": {
          "color": "#FF97FF",
          "symbol": "circle"
         },
         "name": "Bv6754601G",
         "showlegend": true,
         "type": "splom"
        },
        {
         "diagonal": {
          "visible": false
         },
         "dimensions": [
          {
           "axis": {
            "matches": true
           },
           "label": "PC 1",
           "values": [
            13.731943693891635
           ]
          },
          {
           "axis": {
            "matches": true
           },
           "label": "PC 2",
           "values": [
            -8.085742901816989
           ]
          },
          {
           "axis": {
            "matches": true
           },
           "label": "PC 3",
           "values": [
            10.400642428219557
           ]
          },
          {
           "axis": {
            "matches": true
           },
           "label": "PC 4",
           "values": [
            -9.3226351041658
           ]
          },
          {
           "axis": {
            "matches": true
           },
           "label": "PC 5",
           "values": [
            -5.568118503614579
           ]
          }
         ],
         "hovertemplate": "color=Bv6754701G<br>%{xaxis.title.text}=%{x}<br>%{yaxis.title.text}=%{y}<extra></extra>",
         "legendgroup": "Bv6754701G",
         "marker": {
          "color": "#FECB52",
          "symbol": "circle"
         },
         "name": "Bv6754701G",
         "showlegend": true,
         "type": "splom"
        },
        {
         "diagonal": {
          "visible": false
         },
         "dimensions": [
          {
           "axis": {
            "matches": true
           },
           "label": "PC 1",
           "values": [
            -30.449020560076566
           ]
          },
          {
           "axis": {
            "matches": true
           },
           "label": "PC 2",
           "values": [
            17.341229517699244
           ]
          },
          {
           "axis": {
            "matches": true
           },
           "label": "PC 3",
           "values": [
            35.54926465779939
           ]
          },
          {
           "axis": {
            "matches": true
           },
           "label": "PC 4",
           "values": [
            0.39840286643241885
           ]
          },
          {
           "axis": {
            "matches": true
           },
           "label": "PC 5",
           "values": [
            -18.68786670452597
           ]
          }
         ],
         "hovertemplate": "color=Bv6754801G<br>%{xaxis.title.text}=%{x}<br>%{yaxis.title.text}=%{y}<extra></extra>",
         "legendgroup": "Bv6754801G",
         "marker": {
          "color": "#636efa",
          "symbol": "circle"
         },
         "name": "Bv6754801G",
         "showlegend": true,
         "type": "splom"
        },
        {
         "diagonal": {
          "visible": false
         },
         "dimensions": [
          {
           "axis": {
            "matches": true
           },
           "label": "PC 1",
           "values": [
            -2.7840752910253834
           ]
          },
          {
           "axis": {
            "matches": true
           },
           "label": "PC 2",
           "values": [
            -6.457947395453528
           ]
          },
          {
           "axis": {
            "matches": true
           },
           "label": "PC 3",
           "values": [
            -6.462243553059424
           ]
          },
          {
           "axis": {
            "matches": true
           },
           "label": "PC 4",
           "values": [
            2.410901388232573
           ]
          },
          {
           "axis": {
            "matches": true
           },
           "label": "PC 5",
           "values": [
            31.203874955814367
           ]
          }
         ],
         "hovertemplate": "color=Bv6754901G<br>%{xaxis.title.text}=%{x}<br>%{yaxis.title.text}=%{y}<extra></extra>",
         "legendgroup": "Bv6754901G",
         "marker": {
          "color": "#EF553B",
          "symbol": "circle"
         },
         "name": "Bv6754901G",
         "showlegend": true,
         "type": "splom"
        },
        {
         "diagonal": {
          "visible": false
         },
         "dimensions": [
          {
           "axis": {
            "matches": true
           },
           "label": "PC 1",
           "values": [
            -11.316957991175839
           ]
          },
          {
           "axis": {
            "matches": true
           },
           "label": "PC 2",
           "values": [
            -1.5766308484315914
           ]
          },
          {
           "axis": {
            "matches": true
           },
           "label": "PC 3",
           "values": [
            -8.30439453856378
           ]
          },
          {
           "axis": {
            "matches": true
           },
           "label": "PC 4",
           "values": [
            19.460968087425897
           ]
          },
          {
           "axis": {
            "matches": true
           },
           "label": "PC 5",
           "values": [
            16.136373150172226
           ]
          }
         ],
         "hovertemplate": "color=Bv6755001G<br>%{xaxis.title.text}=%{x}<br>%{yaxis.title.text}=%{y}<extra></extra>",
         "legendgroup": "Bv6755001G",
         "marker": {
          "color": "#00cc96",
          "symbol": "circle"
         },
         "name": "Bv6755001G",
         "showlegend": true,
         "type": "splom"
        },
        {
         "diagonal": {
          "visible": false
         },
         "dimensions": [
          {
           "axis": {
            "matches": true
           },
           "label": "PC 1",
           "values": [
            26.799862445780487
           ]
          },
          {
           "axis": {
            "matches": true
           },
           "label": "PC 2",
           "values": [
            -21.028062621858517
           ]
          },
          {
           "axis": {
            "matches": true
           },
           "label": "PC 3",
           "values": [
            7.496089242985716
           ]
          },
          {
           "axis": {
            "matches": true
           },
           "label": "PC 4",
           "values": [
            -8.286112749009561
           ]
          },
          {
           "axis": {
            "matches": true
           },
           "label": "PC 5",
           "values": [
            -18.19249965398622
           ]
          }
         ],
         "hovertemplate": "color=Bv6755101G<br>%{xaxis.title.text}=%{x}<br>%{yaxis.title.text}=%{y}<extra></extra>",
         "legendgroup": "Bv6755101G",
         "marker": {
          "color": "#ab63fa",
          "symbol": "circle"
         },
         "name": "Bv6755101G",
         "showlegend": true,
         "type": "splom"
        },
        {
         "diagonal": {
          "visible": false
         },
         "dimensions": [
          {
           "axis": {
            "matches": true
           },
           "label": "PC 1",
           "values": [
            -28.434766631029003
           ]
          },
          {
           "axis": {
            "matches": true
           },
           "label": "PC 2",
           "values": [
            26.483643755992645
           ]
          },
          {
           "axis": {
            "matches": true
           },
           "label": "PC 3",
           "values": [
            54.170365965418185
           ]
          },
          {
           "axis": {
            "matches": true
           },
           "label": "PC 4",
           "values": [
            -5.53337537102865
           ]
          },
          {
           "axis": {
            "matches": true
           },
           "label": "PC 5",
           "values": [
            -25.503379666042967
           ]
          }
         ],
         "hovertemplate": "color=Bv6755201G<br>%{xaxis.title.text}=%{x}<br>%{yaxis.title.text}=%{y}<extra></extra>",
         "legendgroup": "Bv6755201G",
         "marker": {
          "color": "#FFA15A",
          "symbol": "circle"
         },
         "name": "Bv6755201G",
         "showlegend": true,
         "type": "splom"
        },
        {
         "diagonal": {
          "visible": false
         },
         "dimensions": [
          {
           "axis": {
            "matches": true
           },
           "label": "PC 1",
           "values": [
            23.43376804468694
           ]
          },
          {
           "axis": {
            "matches": true
           },
           "label": "PC 2",
           "values": [
            -18.882723291056177
           ]
          },
          {
           "axis": {
            "matches": true
           },
           "label": "PC 3",
           "values": [
            -0.691338960522166
           ]
          },
          {
           "axis": {
            "matches": true
           },
           "label": "PC 4",
           "values": [
            -12.07095444264859
           ]
          },
          {
           "axis": {
            "matches": true
           },
           "label": "PC 5",
           "values": [
            -3.3861424673212754
           ]
          }
         ],
         "hovertemplate": "color=Bv6755301G<br>%{xaxis.title.text}=%{x}<br>%{yaxis.title.text}=%{y}<extra></extra>",
         "legendgroup": "Bv6755301G",
         "marker": {
          "color": "#19d3f3",
          "symbol": "circle"
         },
         "name": "Bv6755301G",
         "showlegend": true,
         "type": "splom"
        },
        {
         "diagonal": {
          "visible": false
         },
         "dimensions": [
          {
           "axis": {
            "matches": true
           },
           "label": "PC 1",
           "values": [
            33.07609574901245
           ]
          },
          {
           "axis": {
            "matches": true
           },
           "label": "PC 2",
           "values": [
            -23.004663506569344
           ]
          },
          {
           "axis": {
            "matches": true
           },
           "label": "PC 3",
           "values": [
            0.9278940275710135
           ]
          },
          {
           "axis": {
            "matches": true
           },
           "label": "PC 4",
           "values": [
            -10.876239734891977
           ]
          },
          {
           "axis": {
            "matches": true
           },
           "label": "PC 5",
           "values": [
            -12.417142200549495
           ]
          }
         ],
         "hovertemplate": "color=Bv6755401G<br>%{xaxis.title.text}=%{x}<br>%{yaxis.title.text}=%{y}<extra></extra>",
         "legendgroup": "Bv6755401G",
         "marker": {
          "color": "#FF6692",
          "symbol": "circle"
         },
         "name": "Bv6755401G",
         "showlegend": true,
         "type": "splom"
        },
        {
         "diagonal": {
          "visible": false
         },
         "dimensions": [
          {
           "axis": {
            "matches": true
           },
           "label": "PC 1",
           "values": [
            30.629250100852115
           ]
          },
          {
           "axis": {
            "matches": true
           },
           "label": "PC 2",
           "values": [
            -24.02736951868954
           ]
          },
          {
           "axis": {
            "matches": true
           },
           "label": "PC 3",
           "values": [
            7.056813828633783
           ]
          },
          {
           "axis": {
            "matches": true
           },
           "label": "PC 4",
           "values": [
            0.12223457912467889
           ]
          },
          {
           "axis": {
            "matches": true
           },
           "label": "PC 5",
           "values": [
            -3.680109309678545
           ]
          }
         ],
         "hovertemplate": "color=Bv6755501G<br>%{xaxis.title.text}=%{x}<br>%{yaxis.title.text}=%{y}<extra></extra>",
         "legendgroup": "Bv6755501G",
         "marker": {
          "color": "#B6E880",
          "symbol": "circle"
         },
         "name": "Bv6755501G",
         "showlegend": true,
         "type": "splom"
        },
        {
         "diagonal": {
          "visible": false
         },
         "dimensions": [
          {
           "axis": {
            "matches": true
           },
           "label": "PC 1",
           "values": [
            -15.900031069792778
           ]
          },
          {
           "axis": {
            "matches": true
           },
           "label": "PC 2",
           "values": [
            3.478588649475876
           ]
          },
          {
           "axis": {
            "matches": true
           },
           "label": "PC 3",
           "values": [
            -24.786791633150237
           ]
          },
          {
           "axis": {
            "matches": true
           },
           "label": "PC 4",
           "values": [
            50.788882150528856
           ]
          },
          {
           "axis": {
            "matches": true
           },
           "label": "PC 5",
           "values": [
            -37.732694713948554
           ]
          }
         ],
         "hovertemplate": "color=Bv6755601G<br>%{xaxis.title.text}=%{x}<br>%{yaxis.title.text}=%{y}<extra></extra>",
         "legendgroup": "Bv6755601G",
         "marker": {
          "color": "#FF97FF",
          "symbol": "circle"
         },
         "name": "Bv6755601G",
         "showlegend": true,
         "type": "splom"
        },
        {
         "diagonal": {
          "visible": false
         },
         "dimensions": [
          {
           "axis": {
            "matches": true
           },
           "label": "PC 1",
           "values": [
            -8.639032151811826
           ]
          },
          {
           "axis": {
            "matches": true
           },
           "label": "PC 2",
           "values": [
            -5.1643882059749435
           ]
          },
          {
           "axis": {
            "matches": true
           },
           "label": "PC 3",
           "values": [
            -15.332474111022075
           ]
          },
          {
           "axis": {
            "matches": true
           },
           "label": "PC 4",
           "values": [
            14.367206760449204
           ]
          },
          {
           "axis": {
            "matches": true
           },
           "label": "PC 5",
           "values": [
            -3.702582075014612
           ]
          }
         ],
         "hovertemplate": "color=Bv6755701G<br>%{xaxis.title.text}=%{x}<br>%{yaxis.title.text}=%{y}<extra></extra>",
         "legendgroup": "Bv6755701G",
         "marker": {
          "color": "#FECB52",
          "symbol": "circle"
         },
         "name": "Bv6755701G",
         "showlegend": true,
         "type": "splom"
        },
        {
         "diagonal": {
          "visible": false
         },
         "dimensions": [
          {
           "axis": {
            "matches": true
           },
           "label": "PC 1",
           "values": [
            -1.0745550466980844
           ]
          },
          {
           "axis": {
            "matches": true
           },
           "label": "PC 2",
           "values": [
            -5.6862265638938565
           ]
          },
          {
           "axis": {
            "matches": true
           },
           "label": "PC 3",
           "values": [
            -8.547551684881856
           ]
          },
          {
           "axis": {
            "matches": true
           },
           "label": "PC 4",
           "values": [
            -10.77824191365387
           ]
          },
          {
           "axis": {
            "matches": true
           },
           "label": "PC 5",
           "values": [
            15.400024024935341
           ]
          }
         ],
         "hovertemplate": "color=Bv6755801G<br>%{xaxis.title.text}=%{x}<br>%{yaxis.title.text}=%{y}<extra></extra>",
         "legendgroup": "Bv6755801G",
         "marker": {
          "color": "#636efa",
          "symbol": "circle"
         },
         "name": "Bv6755801G",
         "showlegend": true,
         "type": "splom"
        },
        {
         "diagonal": {
          "visible": false
         },
         "dimensions": [
          {
           "axis": {
            "matches": true
           },
           "label": "PC 1",
           "values": [
            -15.710898755015053
           ]
          },
          {
           "axis": {
            "matches": true
           },
           "label": "PC 2",
           "values": [
            3.774764873559239
           ]
          },
          {
           "axis": {
            "matches": true
           },
           "label": "PC 3",
           "values": [
            -11.01848230197131
           ]
          },
          {
           "axis": {
            "matches": true
           },
           "label": "PC 4",
           "values": [
            1.2250684142874513
           ]
          },
          {
           "axis": {
            "matches": true
           },
           "label": "PC 5",
           "values": [
            -0.08337817454142188
           ]
          }
         ],
         "hovertemplate": "color=Bv6755901G<br>%{xaxis.title.text}=%{x}<br>%{yaxis.title.text}=%{y}<extra></extra>",
         "legendgroup": "Bv6755901G",
         "marker": {
          "color": "#EF553B",
          "symbol": "circle"
         },
         "name": "Bv6755901G",
         "showlegend": true,
         "type": "splom"
        },
        {
         "diagonal": {
          "visible": false
         },
         "dimensions": [
          {
           "axis": {
            "matches": true
           },
           "label": "PC 1",
           "values": [
            -8.338038325498655
           ]
          },
          {
           "axis": {
            "matches": true
           },
           "label": "PC 2",
           "values": [
            10.074736826169024
           ]
          },
          {
           "axis": {
            "matches": true
           },
           "label": "PC 3",
           "values": [
            4.48752941251112
           ]
          },
          {
           "axis": {
            "matches": true
           },
           "label": "PC 4",
           "values": [
            13.309527500610798
           ]
          },
          {
           "axis": {
            "matches": true
           },
           "label": "PC 5",
           "values": [
            60.97368971473075
           ]
          }
         ],
         "hovertemplate": "color=Bv6756001G<br>%{xaxis.title.text}=%{x}<br>%{yaxis.title.text}=%{y}<extra></extra>",
         "legendgroup": "Bv6756001G",
         "marker": {
          "color": "#00cc96",
          "symbol": "circle"
         },
         "name": "Bv6756001G",
         "showlegend": true,
         "type": "splom"
        },
        {
         "diagonal": {
          "visible": false
         },
         "dimensions": [
          {
           "axis": {
            "matches": true
           },
           "label": "PC 1",
           "values": [
            -14.42642335431244
           ]
          },
          {
           "axis": {
            "matches": true
           },
           "label": "PC 2",
           "values": [
            1.1525928175728029
           ]
          },
          {
           "axis": {
            "matches": true
           },
           "label": "PC 3",
           "values": [
            6.376095868733251
           ]
          },
          {
           "axis": {
            "matches": true
           },
           "label": "PC 4",
           "values": [
            10.68272805429786
           ]
          },
          {
           "axis": {
            "matches": true
           },
           "label": "PC 5",
           "values": [
            44.645528397367926
           ]
          }
         ],
         "hovertemplate": "color=Bv6756101G<br>%{xaxis.title.text}=%{x}<br>%{yaxis.title.text}=%{y}<extra></extra>",
         "legendgroup": "Bv6756101G",
         "marker": {
          "color": "#ab63fa",
          "symbol": "circle"
         },
         "name": "Bv6756101G",
         "showlegend": true,
         "type": "splom"
        },
        {
         "diagonal": {
          "visible": false
         },
         "dimensions": [
          {
           "axis": {
            "matches": true
           },
           "label": "PC 1",
           "values": [
            -24.233175096840856
           ]
          },
          {
           "axis": {
            "matches": true
           },
           "label": "PC 2",
           "values": [
            12.757138234070815
           ]
          },
          {
           "axis": {
            "matches": true
           },
           "label": "PC 3",
           "values": [
            -12.65855689244914
           ]
          },
          {
           "axis": {
            "matches": true
           },
           "label": "PC 4",
           "values": [
            42.64873173857088
           ]
          },
          {
           "axis": {
            "matches": true
           },
           "label": "PC 5",
           "values": [
            -5.513851542907598
           ]
          }
         ],
         "hovertemplate": "color=Bv6756201G<br>%{xaxis.title.text}=%{x}<br>%{yaxis.title.text}=%{y}<extra></extra>",
         "legendgroup": "Bv6756201G",
         "marker": {
          "color": "#FFA15A",
          "symbol": "circle"
         },
         "name": "Bv6756201G",
         "showlegend": true,
         "type": "splom"
        },
        {
         "diagonal": {
          "visible": false
         },
         "dimensions": [
          {
           "axis": {
            "matches": true
           },
           "label": "PC 1",
           "values": [
            -21.54742661946392
           ]
          },
          {
           "axis": {
            "matches": true
           },
           "label": "PC 2",
           "values": [
            10.985099243176151
           ]
          },
          {
           "axis": {
            "matches": true
           },
           "label": "PC 3",
           "values": [
            -31.85537395547827
           ]
          },
          {
           "axis": {
            "matches": true
           },
           "label": "PC 4",
           "values": [
            -31.42074086746345
           ]
          },
          {
           "axis": {
            "matches": true
           },
           "label": "PC 5",
           "values": [
            -1.7605613532837128
           ]
          }
         ],
         "hovertemplate": "color=Bv6756301G<br>%{xaxis.title.text}=%{x}<br>%{yaxis.title.text}=%{y}<extra></extra>",
         "legendgroup": "Bv6756301G",
         "marker": {
          "color": "#19d3f3",
          "symbol": "circle"
         },
         "name": "Bv6756301G",
         "showlegend": true,
         "type": "splom"
        },
        {
         "diagonal": {
          "visible": false
         },
         "dimensions": [
          {
           "axis": {
            "matches": true
           },
           "label": "PC 1",
           "values": [
            -0.5546544399862054
           ]
          },
          {
           "axis": {
            "matches": true
           },
           "label": "PC 2",
           "values": [
            -6.724587873460559
           ]
          },
          {
           "axis": {
            "matches": true
           },
           "label": "PC 3",
           "values": [
            -21.506772202307044
           ]
          },
          {
           "axis": {
            "matches": true
           },
           "label": "PC 4",
           "values": [
            37.335780965189244
           ]
          },
          {
           "axis": {
            "matches": true
           },
           "label": "PC 5",
           "values": [
            -30.848308092655856
           ]
          }
         ],
         "hovertemplate": "color=Bv6756401G<br>%{xaxis.title.text}=%{x}<br>%{yaxis.title.text}=%{y}<extra></extra>",
         "legendgroup": "Bv6756401G",
         "marker": {
          "color": "#FF6692",
          "symbol": "circle"
         },
         "name": "Bv6756401G",
         "showlegend": true,
         "type": "splom"
        },
        {
         "diagonal": {
          "visible": false
         },
         "dimensions": [
          {
           "axis": {
            "matches": true
           },
           "label": "PC 1",
           "values": [
            -15.608570327581113
           ]
          },
          {
           "axis": {
            "matches": true
           },
           "label": "PC 2",
           "values": [
            5.821758607498997
           ]
          },
          {
           "axis": {
            "matches": true
           },
           "label": "PC 3",
           "values": [
            -25.633891518791405
           ]
          },
          {
           "axis": {
            "matches": true
           },
           "label": "PC 4",
           "values": [
            -35.621709618747005
           ]
          },
          {
           "axis": {
            "matches": true
           },
           "label": "PC 5",
           "values": [
            -2.674128226685558
           ]
          }
         ],
         "hovertemplate": "color=Bv6756501G<br>%{xaxis.title.text}=%{x}<br>%{yaxis.title.text}=%{y}<extra></extra>",
         "legendgroup": "Bv6756501G",
         "marker": {
          "color": "#B6E880",
          "symbol": "circle"
         },
         "name": "Bv6756501G",
         "showlegend": true,
         "type": "splom"
        },
        {
         "diagonal": {
          "visible": false
         },
         "dimensions": [
          {
           "axis": {
            "matches": true
           },
           "label": "PC 1",
           "values": [
            -9.782276068704732
           ]
          },
          {
           "axis": {
            "matches": true
           },
           "label": "PC 2",
           "values": [
            4.055233424634951
           ]
          },
          {
           "axis": {
            "matches": true
           },
           "label": "PC 3",
           "values": [
            2.9473142401700403
           ]
          },
          {
           "axis": {
            "matches": true
           },
           "label": "PC 4",
           "values": [
            27.043975941474976
           ]
          },
          {
           "axis": {
            "matches": true
           },
           "label": "PC 5",
           "values": [
            19.176146740825104
           ]
          }
         ],
         "hovertemplate": "color=Bv6756601G<br>%{xaxis.title.text}=%{x}<br>%{yaxis.title.text}=%{y}<extra></extra>",
         "legendgroup": "Bv6756601G",
         "marker": {
          "color": "#FF97FF",
          "symbol": "circle"
         },
         "name": "Bv6756601G",
         "showlegend": true,
         "type": "splom"
        },
        {
         "diagonal": {
          "visible": false
         },
         "dimensions": [
          {
           "axis": {
            "matches": true
           },
           "label": "PC 1",
           "values": [
            -17.196919095293495
           ]
          },
          {
           "axis": {
            "matches": true
           },
           "label": "PC 2",
           "values": [
            8.765637030531751
           ]
          },
          {
           "axis": {
            "matches": true
           },
           "label": "PC 3",
           "values": [
            -16.92092132191133
           ]
          },
          {
           "axis": {
            "matches": true
           },
           "label": "PC 4",
           "values": [
            -5.595988873325287
           ]
          },
          {
           "axis": {
            "matches": true
           },
           "label": "PC 5",
           "values": [
            -7.0821702115807295
           ]
          }
         ],
         "hovertemplate": "color=Bv6756701G<br>%{xaxis.title.text}=%{x}<br>%{yaxis.title.text}=%{y}<extra></extra>",
         "legendgroup": "Bv6756701G",
         "marker": {
          "color": "#FECB52",
          "symbol": "circle"
         },
         "name": "Bv6756701G",
         "showlegend": true,
         "type": "splom"
        },
        {
         "diagonal": {
          "visible": false
         },
         "dimensions": [
          {
           "axis": {
            "matches": true
           },
           "label": "PC 1",
           "values": [
            -12.89708651361844
           ]
          },
          {
           "axis": {
            "matches": true
           },
           "label": "PC 2",
           "values": [
            8.887823331939863
           ]
          },
          {
           "axis": {
            "matches": true
           },
           "label": "PC 3",
           "values": [
            -26.919746543073792
           ]
          },
          {
           "axis": {
            "matches": true
           },
           "label": "PC 4",
           "values": [
            41.224893425497264
           ]
          },
          {
           "axis": {
            "matches": true
           },
           "label": "PC 5",
           "values": [
            -32.20992010145248
           ]
          }
         ],
         "hovertemplate": "color=Bv6756801G<br>%{xaxis.title.text}=%{x}<br>%{yaxis.title.text}=%{y}<extra></extra>",
         "legendgroup": "Bv6756801G",
         "marker": {
          "color": "#636efa",
          "symbol": "circle"
         },
         "name": "Bv6756801G",
         "showlegend": true,
         "type": "splom"
        },
        {
         "diagonal": {
          "visible": false
         },
         "dimensions": [
          {
           "axis": {
            "matches": true
           },
           "label": "PC 1",
           "values": [
            8.07055234474952
           ]
          },
          {
           "axis": {
            "matches": true
           },
           "label": "PC 2",
           "values": [
            -9.558850965437529
           ]
          },
          {
           "axis": {
            "matches": true
           },
           "label": "PC 3",
           "values": [
            -2.1226281461952565
           ]
          },
          {
           "axis": {
            "matches": true
           },
           "label": "PC 4",
           "values": [
            14.33344368334224
           ]
          },
          {
           "axis": {
            "matches": true
           },
           "label": "PC 5",
           "values": [
            -0.6423075446722173
           ]
          }
         ],
         "hovertemplate": "color=Bv6756901G<br>%{xaxis.title.text}=%{x}<br>%{yaxis.title.text}=%{y}<extra></extra>",
         "legendgroup": "Bv6756901G",
         "marker": {
          "color": "#EF553B",
          "symbol": "circle"
         },
         "name": "Bv6756901G",
         "showlegend": true,
         "type": "splom"
        },
        {
         "diagonal": {
          "visible": false
         },
         "dimensions": [
          {
           "axis": {
            "matches": true
           },
           "label": "PC 1",
           "values": [
            -20.705279016157846
           ]
          },
          {
           "axis": {
            "matches": true
           },
           "label": "PC 2",
           "values": [
            6.5189398946848165
           ]
          },
          {
           "axis": {
            "matches": true
           },
           "label": "PC 3",
           "values": [
            -14.322298997239294
           ]
          },
          {
           "axis": {
            "matches": true
           },
           "label": "PC 4",
           "values": [
            44.30176196343706
           ]
          },
          {
           "axis": {
            "matches": true
           },
           "label": "PC 5",
           "values": [
            -27.15022853893621
           ]
          }
         ],
         "hovertemplate": "color=Bv6757001G<br>%{xaxis.title.text}=%{x}<br>%{yaxis.title.text}=%{y}<extra></extra>",
         "legendgroup": "Bv6757001G",
         "marker": {
          "color": "#00cc96",
          "symbol": "circle"
         },
         "name": "Bv6757001G",
         "showlegend": true,
         "type": "splom"
        },
        {
         "diagonal": {
          "visible": false
         },
         "dimensions": [
          {
           "axis": {
            "matches": true
           },
           "label": "PC 1",
           "values": [
            0.4100296641292656
           ]
          },
          {
           "axis": {
            "matches": true
           },
           "label": "PC 2",
           "values": [
            -2.0581148880365174
           ]
          },
          {
           "axis": {
            "matches": true
           },
           "label": "PC 3",
           "values": [
            -26.407752428282695
           ]
          },
          {
           "axis": {
            "matches": true
           },
           "label": "PC 4",
           "values": [
            -26.404765774792537
           ]
          },
          {
           "axis": {
            "matches": true
           },
           "label": "PC 5",
           "values": [
            -12.70450034894036
           ]
          }
         ],
         "hovertemplate": "color=Bv6757101G<br>%{xaxis.title.text}=%{x}<br>%{yaxis.title.text}=%{y}<extra></extra>",
         "legendgroup": "Bv6757101G",
         "marker": {
          "color": "#ab63fa",
          "symbol": "circle"
         },
         "name": "Bv6757101G",
         "showlegend": true,
         "type": "splom"
        }
       ],
       "layout": {
        "dragmode": "select",
        "legend": {
         "title": {
          "text": "color"
         },
         "tracegroupgap": 0
        },
        "margin": {
         "t": 60
        },
        "template": {
         "data": {
          "bar": [
           {
            "error_x": {
             "color": "#2a3f5f"
            },
            "error_y": {
             "color": "#2a3f5f"
            },
            "marker": {
             "line": {
              "color": "#E5ECF6",
              "width": 0.5
             },
             "pattern": {
              "fillmode": "overlay",
              "size": 10,
              "solidity": 0.2
             }
            },
            "type": "bar"
           }
          ],
          "barpolar": [
           {
            "marker": {
             "line": {
              "color": "#E5ECF6",
              "width": 0.5
             },
             "pattern": {
              "fillmode": "overlay",
              "size": 10,
              "solidity": 0.2
             }
            },
            "type": "barpolar"
           }
          ],
          "carpet": [
           {
            "aaxis": {
             "endlinecolor": "#2a3f5f",
             "gridcolor": "white",
             "linecolor": "white",
             "minorgridcolor": "white",
             "startlinecolor": "#2a3f5f"
            },
            "baxis": {
             "endlinecolor": "#2a3f5f",
             "gridcolor": "white",
             "linecolor": "white",
             "minorgridcolor": "white",
             "startlinecolor": "#2a3f5f"
            },
            "type": "carpet"
           }
          ],
          "choropleth": [
           {
            "colorbar": {
             "outlinewidth": 0,
             "ticks": ""
            },
            "type": "choropleth"
           }
          ],
          "contour": [
           {
            "colorbar": {
             "outlinewidth": 0,
             "ticks": ""
            },
            "colorscale": [
             [
              0,
              "#0d0887"
             ],
             [
              0.1111111111111111,
              "#46039f"
             ],
             [
              0.2222222222222222,
              "#7201a8"
             ],
             [
              0.3333333333333333,
              "#9c179e"
             ],
             [
              0.4444444444444444,
              "#bd3786"
             ],
             [
              0.5555555555555556,
              "#d8576b"
             ],
             [
              0.6666666666666666,
              "#ed7953"
             ],
             [
              0.7777777777777778,
              "#fb9f3a"
             ],
             [
              0.8888888888888888,
              "#fdca26"
             ],
             [
              1,
              "#f0f921"
             ]
            ],
            "type": "contour"
           }
          ],
          "contourcarpet": [
           {
            "colorbar": {
             "outlinewidth": 0,
             "ticks": ""
            },
            "type": "contourcarpet"
           }
          ],
          "heatmap": [
           {
            "colorbar": {
             "outlinewidth": 0,
             "ticks": ""
            },
            "colorscale": [
             [
              0,
              "#0d0887"
             ],
             [
              0.1111111111111111,
              "#46039f"
             ],
             [
              0.2222222222222222,
              "#7201a8"
             ],
             [
              0.3333333333333333,
              "#9c179e"
             ],
             [
              0.4444444444444444,
              "#bd3786"
             ],
             [
              0.5555555555555556,
              "#d8576b"
             ],
             [
              0.6666666666666666,
              "#ed7953"
             ],
             [
              0.7777777777777778,
              "#fb9f3a"
             ],
             [
              0.8888888888888888,
              "#fdca26"
             ],
             [
              1,
              "#f0f921"
             ]
            ],
            "type": "heatmap"
           }
          ],
          "heatmapgl": [
           {
            "colorbar": {
             "outlinewidth": 0,
             "ticks": ""
            },
            "colorscale": [
             [
              0,
              "#0d0887"
             ],
             [
              0.1111111111111111,
              "#46039f"
             ],
             [
              0.2222222222222222,
              "#7201a8"
             ],
             [
              0.3333333333333333,
              "#9c179e"
             ],
             [
              0.4444444444444444,
              "#bd3786"
             ],
             [
              0.5555555555555556,
              "#d8576b"
             ],
             [
              0.6666666666666666,
              "#ed7953"
             ],
             [
              0.7777777777777778,
              "#fb9f3a"
             ],
             [
              0.8888888888888888,
              "#fdca26"
             ],
             [
              1,
              "#f0f921"
             ]
            ],
            "type": "heatmapgl"
           }
          ],
          "histogram": [
           {
            "marker": {
             "pattern": {
              "fillmode": "overlay",
              "size": 10,
              "solidity": 0.2
             }
            },
            "type": "histogram"
           }
          ],
          "histogram2d": [
           {
            "colorbar": {
             "outlinewidth": 0,
             "ticks": ""
            },
            "colorscale": [
             [
              0,
              "#0d0887"
             ],
             [
              0.1111111111111111,
              "#46039f"
             ],
             [
              0.2222222222222222,
              "#7201a8"
             ],
             [
              0.3333333333333333,
              "#9c179e"
             ],
             [
              0.4444444444444444,
              "#bd3786"
             ],
             [
              0.5555555555555556,
              "#d8576b"
             ],
             [
              0.6666666666666666,
              "#ed7953"
             ],
             [
              0.7777777777777778,
              "#fb9f3a"
             ],
             [
              0.8888888888888888,
              "#fdca26"
             ],
             [
              1,
              "#f0f921"
             ]
            ],
            "type": "histogram2d"
           }
          ],
          "histogram2dcontour": [
           {
            "colorbar": {
             "outlinewidth": 0,
             "ticks": ""
            },
            "colorscale": [
             [
              0,
              "#0d0887"
             ],
             [
              0.1111111111111111,
              "#46039f"
             ],
             [
              0.2222222222222222,
              "#7201a8"
             ],
             [
              0.3333333333333333,
              "#9c179e"
             ],
             [
              0.4444444444444444,
              "#bd3786"
             ],
             [
              0.5555555555555556,
              "#d8576b"
             ],
             [
              0.6666666666666666,
              "#ed7953"
             ],
             [
              0.7777777777777778,
              "#fb9f3a"
             ],
             [
              0.8888888888888888,
              "#fdca26"
             ],
             [
              1,
              "#f0f921"
             ]
            ],
            "type": "histogram2dcontour"
           }
          ],
          "mesh3d": [
           {
            "colorbar": {
             "outlinewidth": 0,
             "ticks": ""
            },
            "type": "mesh3d"
           }
          ],
          "parcoords": [
           {
            "line": {
             "colorbar": {
              "outlinewidth": 0,
              "ticks": ""
             }
            },
            "type": "parcoords"
           }
          ],
          "pie": [
           {
            "automargin": true,
            "type": "pie"
           }
          ],
          "scatter": [
           {
            "fillpattern": {
             "fillmode": "overlay",
             "size": 10,
             "solidity": 0.2
            },
            "type": "scatter"
           }
          ],
          "scatter3d": [
           {
            "line": {
             "colorbar": {
              "outlinewidth": 0,
              "ticks": ""
             }
            },
            "marker": {
             "colorbar": {
              "outlinewidth": 0,
              "ticks": ""
             }
            },
            "type": "scatter3d"
           }
          ],
          "scattercarpet": [
           {
            "marker": {
             "colorbar": {
              "outlinewidth": 0,
              "ticks": ""
             }
            },
            "type": "scattercarpet"
           }
          ],
          "scattergeo": [
           {
            "marker": {
             "colorbar": {
              "outlinewidth": 0,
              "ticks": ""
             }
            },
            "type": "scattergeo"
           }
          ],
          "scattergl": [
           {
            "marker": {
             "colorbar": {
              "outlinewidth": 0,
              "ticks": ""
             }
            },
            "type": "scattergl"
           }
          ],
          "scattermapbox": [
           {
            "marker": {
             "colorbar": {
              "outlinewidth": 0,
              "ticks": ""
             }
            },
            "type": "scattermapbox"
           }
          ],
          "scatterpolar": [
           {
            "marker": {
             "colorbar": {
              "outlinewidth": 0,
              "ticks": ""
             }
            },
            "type": "scatterpolar"
           }
          ],
          "scatterpolargl": [
           {
            "marker": {
             "colorbar": {
              "outlinewidth": 0,
              "ticks": ""
             }
            },
            "type": "scatterpolargl"
           }
          ],
          "scatterternary": [
           {
            "marker": {
             "colorbar": {
              "outlinewidth": 0,
              "ticks": ""
             }
            },
            "type": "scatterternary"
           }
          ],
          "surface": [
           {
            "colorbar": {
             "outlinewidth": 0,
             "ticks": ""
            },
            "colorscale": [
             [
              0,
              "#0d0887"
             ],
             [
              0.1111111111111111,
              "#46039f"
             ],
             [
              0.2222222222222222,
              "#7201a8"
             ],
             [
              0.3333333333333333,
              "#9c179e"
             ],
             [
              0.4444444444444444,
              "#bd3786"
             ],
             [
              0.5555555555555556,
              "#d8576b"
             ],
             [
              0.6666666666666666,
              "#ed7953"
             ],
             [
              0.7777777777777778,
              "#fb9f3a"
             ],
             [
              0.8888888888888888,
              "#fdca26"
             ],
             [
              1,
              "#f0f921"
             ]
            ],
            "type": "surface"
           }
          ],
          "table": [
           {
            "cells": {
             "fill": {
              "color": "#EBF0F8"
             },
             "line": {
              "color": "white"
             }
            },
            "header": {
             "fill": {
              "color": "#C8D4E3"
             },
             "line": {
              "color": "white"
             }
            },
            "type": "table"
           }
          ]
         },
         "layout": {
          "annotationdefaults": {
           "arrowcolor": "#2a3f5f",
           "arrowhead": 0,
           "arrowwidth": 1
          },
          "autotypenumbers": "strict",
          "coloraxis": {
           "colorbar": {
            "outlinewidth": 0,
            "ticks": ""
           }
          },
          "colorscale": {
           "diverging": [
            [
             0,
             "#8e0152"
            ],
            [
             0.1,
             "#c51b7d"
            ],
            [
             0.2,
             "#de77ae"
            ],
            [
             0.3,
             "#f1b6da"
            ],
            [
             0.4,
             "#fde0ef"
            ],
            [
             0.5,
             "#f7f7f7"
            ],
            [
             0.6,
             "#e6f5d0"
            ],
            [
             0.7,
             "#b8e186"
            ],
            [
             0.8,
             "#7fbc41"
            ],
            [
             0.9,
             "#4d9221"
            ],
            [
             1,
             "#276419"
            ]
           ],
           "sequential": [
            [
             0,
             "#0d0887"
            ],
            [
             0.1111111111111111,
             "#46039f"
            ],
            [
             0.2222222222222222,
             "#7201a8"
            ],
            [
             0.3333333333333333,
             "#9c179e"
            ],
            [
             0.4444444444444444,
             "#bd3786"
            ],
            [
             0.5555555555555556,
             "#d8576b"
            ],
            [
             0.6666666666666666,
             "#ed7953"
            ],
            [
             0.7777777777777778,
             "#fb9f3a"
            ],
            [
             0.8888888888888888,
             "#fdca26"
            ],
            [
             1,
             "#f0f921"
            ]
           ],
           "sequentialminus": [
            [
             0,
             "#0d0887"
            ],
            [
             0.1111111111111111,
             "#46039f"
            ],
            [
             0.2222222222222222,
             "#7201a8"
            ],
            [
             0.3333333333333333,
             "#9c179e"
            ],
            [
             0.4444444444444444,
             "#bd3786"
            ],
            [
             0.5555555555555556,
             "#d8576b"
            ],
            [
             0.6666666666666666,
             "#ed7953"
            ],
            [
             0.7777777777777778,
             "#fb9f3a"
            ],
            [
             0.8888888888888888,
             "#fdca26"
            ],
            [
             1,
             "#f0f921"
            ]
           ]
          },
          "colorway": [
           "#636efa",
           "#EF553B",
           "#00cc96",
           "#ab63fa",
           "#FFA15A",
           "#19d3f3",
           "#FF6692",
           "#B6E880",
           "#FF97FF",
           "#FECB52"
          ],
          "font": {
           "color": "#2a3f5f"
          },
          "geo": {
           "bgcolor": "white",
           "lakecolor": "white",
           "landcolor": "#E5ECF6",
           "showlakes": true,
           "showland": true,
           "subunitcolor": "white"
          },
          "hoverlabel": {
           "align": "left"
          },
          "hovermode": "closest",
          "mapbox": {
           "style": "light"
          },
          "paper_bgcolor": "white",
          "plot_bgcolor": "#E5ECF6",
          "polar": {
           "angularaxis": {
            "gridcolor": "white",
            "linecolor": "white",
            "ticks": ""
           },
           "bgcolor": "#E5ECF6",
           "radialaxis": {
            "gridcolor": "white",
            "linecolor": "white",
            "ticks": ""
           }
          },
          "scene": {
           "xaxis": {
            "backgroundcolor": "#E5ECF6",
            "gridcolor": "white",
            "gridwidth": 2,
            "linecolor": "white",
            "showbackground": true,
            "ticks": "",
            "zerolinecolor": "white"
           },
           "yaxis": {
            "backgroundcolor": "#E5ECF6",
            "gridcolor": "white",
            "gridwidth": 2,
            "linecolor": "white",
            "showbackground": true,
            "ticks": "",
            "zerolinecolor": "white"
           },
           "zaxis": {
            "backgroundcolor": "#E5ECF6",
            "gridcolor": "white",
            "gridwidth": 2,
            "linecolor": "white",
            "showbackground": true,
            "ticks": "",
            "zerolinecolor": "white"
           }
          },
          "shapedefaults": {
           "line": {
            "color": "#2a3f5f"
           }
          },
          "ternary": {
           "aaxis": {
            "gridcolor": "white",
            "linecolor": "white",
            "ticks": ""
           },
           "baxis": {
            "gridcolor": "white",
            "linecolor": "white",
            "ticks": ""
           },
           "bgcolor": "#E5ECF6",
           "caxis": {
            "gridcolor": "white",
            "linecolor": "white",
            "ticks": ""
           }
          },
          "title": {
           "x": 0.05
          },
          "xaxis": {
           "automargin": true,
           "gridcolor": "white",
           "linecolor": "white",
           "ticks": "",
           "title": {
            "standoff": 15
           },
           "zerolinecolor": "white",
           "zerolinewidth": 2
          },
          "yaxis": {
           "automargin": true,
           "gridcolor": "white",
           "linecolor": "white",
           "ticks": "",
           "title": {
            "standoff": 15
           },
           "zerolinecolor": "white",
           "zerolinewidth": 2
          }
         }
        }
       }
      }
     },
     "metadata": {},
     "output_type": "display_data"
    }
   ],
   "source": [
    "labels = {str(i): f\"PC {i+1}\" for i in range(5)}\n",
    "fig = px.scatter_matrix(\n",
    "    X_pca,\n",
    "    dimensions=range(5),\n",
    "    color=Y,\n",
    "    labels=labels,\n",
    ")\n",
    "\n",
    "fig.update_traces(diagonal_visible=False)\n",
    "fig.show()"
   ]
  },
  {
   "cell_type": "code",
   "execution_count": 16,
   "metadata": {},
   "outputs": [],
   "source": [
    "## Kmeans clustering"
   ]
  },
  {
   "cell_type": "code",
   "execution_count": 71,
   "metadata": {},
   "outputs": [],
   "source": [
    "import matplotlib.pyplot as plt\n",
    "from kneed import KneeLocator\n",
    "from sklearn.datasets import make_blobs\n",
    "from sklearn.cluster import KMeans\n",
    "from sklearn.metrics import silhouette_score"
   ]
  },
  {
   "cell_type": "code",
   "execution_count": 72,
   "metadata": {},
   "outputs": [
    {
     "data": {
      "text/plain": [
       "2"
      ]
     },
     "execution_count": 72,
     "metadata": {},
     "output_type": "execute_result"
    }
   ],
   "source": [
    "#elbow method\n",
    "\n",
    "kmeans_kwargs = {\n",
    "    \"init\": \"random\",\n",
    "    \"n_init\": 10,\n",
    "    \"max_iter\": 1000,\n",
    "    \"random_state\": 42,\n",
    "}\n",
    "\n",
    "sse = []\n",
    "\n",
    "for k in range(1, 11):\n",
    "    kmeans = KMeans(n_clusters=k, **kmeans_kwargs)\n",
    "    kmeans.fit(X_scaled)\n",
    "    sse.append(kmeans.inertia_)\n",
    "\n",
    "kl = KneeLocator(range(1, 11), sse, curve=\"convex\", direction=\"decreasing\")\n",
    "kl.elbow"
   ]
  },
  {
   "cell_type": "code",
   "execution_count": 73,
   "metadata": {},
   "outputs": [],
   "source": [
    "# BIC method    \n",
    "from sklearn.mixture import GaussianMixture\n",
    "n_components = range(1, 11)\n",
    "\n",
    "gm = [GaussianMixture(n, covariance_type='diag', random_state=0).fit(X) for n in n_components]"
   ]
  },
  {
   "cell_type": "code",
   "execution_count": 74,
   "metadata": {},
   "outputs": [
    {
     "data": {
      "image/png": "[encoded data removed]",
      "text/plain": [
       "<Figure size 640x480 with 1 Axes>"
      ]
     },
     "metadata": {},
     "output_type": "display_data"
    }
   ],
   "source": [
    "plt.style.use(\"fivethirtyeight\")\n",
    "plt.plot(range(1, 11), sse)\n",
    "plt.xticks(range(1, 11))\n",
    "plt.xlabel(\"Number of Clusters\")\n",
    "plt.ylabel(\"SSE\")\n",
    "plt.title(\"Elbow Method\")\n",
    "plt.show()"
   ]
  },
  {
   "cell_type": "code",
   "execution_count": 75,
   "metadata": {},
   "outputs": [
    {
     "data": {
      "image/png": "[encoded data removed]",
      "text/plain": [
       "<Figure size 1200x800 with 1 Axes>"
      ]
     },
     "metadata": {},
     "output_type": "display_data"
    }
   ],
   "source": [
    "plt.figure(figsize=(12, 8))\n",
    "plt.plot(n_components, [m.bic(X) for m in gm], label='BIC')\n",
    "plt.plot(n_components, [m.aic(X) for m in gm], label='AIC')\n",
    "plt.legend(loc='best')\n",
    "plt.xlabel('n_components')\n",
    "plt.show()"
   ]
  },
  {
   "cell_type": "code",
   "execution_count": 80,
   "metadata": {},
   "outputs": [],
   "source": [
    "kmeans = KMeans(\n",
    "    init=\"random\",\n",
    "    n_clusters=4,\n",
    "    n_init=10,\n",
    "    max_iter=1000,\n",
    "    random_state=42\n",
    ")"
   ]
  },
  {
   "cell_type": "code",
   "execution_count": 81,
   "metadata": {},
   "outputs": [
    {
     "data": {
      "text/plain": [
       "array([0, 1, 2, 3], dtype=int32)"
      ]
     },
     "execution_count": 81,
     "metadata": {},
     "output_type": "execute_result"
    }
   ],
   "source": [
    "kmeans.fit(X_pca)\n",
    "y_kmeans = kmeans.fit_predict(X_pca)\n",
    "y_kmeansU = np.unique(y_kmeans)\n",
    "y_kmeansU"
   ]
  },
  {
   "cell_type": "code",
   "execution_count": 82,
   "metadata": {},
   "outputs": [
    {
     "data": {
      "image/png": "[encoded data removed]",
      "text/plain": [
       "<Figure size 640x480 with 1 Axes>"
      ]
     },
     "metadata": {},
     "output_type": "display_data"
    }
   ],
   "source": [
    "for i in y_kmeansU:\n",
    "    plt.scatter(X_pca[y_kmeans == i, 0], X_pca[y_kmeans == i, 1], label=i)\n",
    "plt.legend()\n",
    "plt.show()"
   ]
  },
  {
   "cell_type": "code",
   "execution_count": 25,
   "metadata": {},
   "outputs": [],
   "source": [
    "# multivariate analysis"
   ]
  },
  {
   "cell_type": "code",
   "execution_count": 54,
   "metadata": {},
   "outputs": [
    {
     "name": "stdout",
     "output_type": "stream",
     "text": [
      "<class 'pandas.core.frame.DataFrame'>\n",
      "RangeIndex: 84 entries, 0 to 83\n",
      "Columns: 39201 entries, sample to rs110677413\n",
      "dtypes: float64(18746), int64(20454), object(1)\n",
      "memory usage: 25.1+ MB\n"
     ]
    }
   ],
   "source": [
    "file.info()\n"
   ]
  },
  {
   "cell_type": "code",
   "execution_count": 27,
   "metadata": {},
   "outputs": [],
   "source": [
    "import pandas as pd2"
   ]
  },
  {
   "cell_type": "code",
   "execution_count": 69,
   "metadata": {},
   "outputs": [
    {
     "data": {
      "image/png": "[encoded data removed]",
      "text/plain": [
       "<Figure size 2000x1500 with 196 Axes>"
      ]
     },
     "metadata": {},
     "output_type": "display_data"
    }
   ],
   "source": [
    "pd2.plotting.scatter_matrix(file.loc[:,\"FATTH\":\"TEND\"], diagonal='kde', figsize=(20,15))\n",
    "plt.tight_layout()\n",
    "plt.show()"
   ]
  },
  {
   "cell_type": "code",
   "execution_count": 29,
   "metadata": {},
   "outputs": [
    {
     "ename": "IndexError",
     "evalue": "only integers, slices (`:`), ellipsis (`...`), numpy.newaxis (`None`) and integer or boolean arrays are valid indices",
     "output_type": "error",
     "traceback": [
      "\u001b[0;31m---------------------------------------------------------------------------\u001b[0m",
      "\u001b[0;31mIndexError\u001b[0m                                Traceback (most recent call last)",
      "Cell \u001b[0;32mIn[29], line 2\u001b[0m\n\u001b[1;32m      1\u001b[0m \u001b[39mfor\u001b[39;00m i \u001b[39min\u001b[39;00m file\u001b[39m.\u001b[39mcolumns[\u001b[39m1\u001b[39m:]:\n\u001b[0;32m----> 2\u001b[0m     sns\u001b[39m.\u001b[39mlmplot(x\u001b[39m=\u001b[39m\u001b[39m\"\u001b[39m\u001b[39mSample\u001b[39m\u001b[39m\"\u001b[39m, y\u001b[39m=\u001b[39mfile\u001b[39m.\u001b[39;49mcolumns[i], data\u001b[39m=\u001b[39mfile, hue\u001b[39m=\u001b[39m\u001b[39m\"\u001b[39m\u001b[39mSample\u001b[39m\u001b[39m\"\u001b[39m, fit_reg\u001b[39m=\u001b[39m\u001b[39mFalse\u001b[39;00m)\n",
      "File \u001b[0;32m/Library/Frameworks/Python.framework/Versions/3.10/lib/python3.10/site-packages/pandas/core/indexes/base.py:5377\u001b[0m, in \u001b[0;36mIndex.__getitem__\u001b[0;34m(self, key)\u001b[0m\n\u001b[1;32m   5374\u001b[0m     \u001b[39melse\u001b[39;00m:\n\u001b[1;32m   5375\u001b[0m         key \u001b[39m=\u001b[39m np\u001b[39m.\u001b[39masarray(key, dtype\u001b[39m=\u001b[39m\u001b[39mbool\u001b[39m)\n\u001b[0;32m-> 5377\u001b[0m result \u001b[39m=\u001b[39m getitem(key)\n\u001b[1;32m   5378\u001b[0m \u001b[39m# Because we ruled out integer above, we always get an arraylike here\u001b[39;00m\n\u001b[1;32m   5379\u001b[0m \u001b[39mif\u001b[39;00m result\u001b[39m.\u001b[39mndim \u001b[39m>\u001b[39m \u001b[39m1\u001b[39m:\n",
      "\u001b[0;31mIndexError\u001b[0m: only integers, slices (`:`), ellipsis (`...`), numpy.newaxis (`None`) and integer or boolean arrays are valid indices"
     ]
    }
   ],
   "source": [
    "for i in file.columns[1:]:\n",
    "    sns.lmplot(x=\"Sample\", y=file.columns[i], data=file, hue=\"Sample\", fit_reg=False)\n"
   ]
  },
  {
   "cell_type": "code",
   "execution_count": 57,
   "metadata": {},
   "outputs": [
    {
     "data": {
      "text/html": [
       "<div>\n",
       "<style scoped>\n",
       "    .dataframe tbody tr th:only-of-type {\n",
       "        vertical-align: middle;\n",
       "    }\n",
       "\n",
       "    .dataframe tbody tr th {\n",
       "        vertical-align: top;\n",
       "    }\n",
       "\n",
       "    .dataframe thead th {\n",
       "        text-align: right;\n",
       "    }\n",
       "</style>\n",
       "<table border=\"1\" class=\"dataframe\">\n",
       "  <thead>\n",
       "    <tr style=\"text-align: right;\">\n",
       "      <th></th>\n",
       "      <th>count</th>\n",
       "      <th>mean</th>\n",
       "      <th>std</th>\n",
       "      <th>min</th>\n",
       "      <th>25%</th>\n",
       "      <th>50%</th>\n",
       "      <th>75%</th>\n",
       "      <th>max</th>\n",
       "    </tr>\n",
       "  </thead>\n",
       "  <tbody>\n",
       "    <tr>\n",
       "      <th>FATTH</th>\n",
       "      <td>84.0</td>\n",
       "      <td>38.059524</td>\n",
       "      <td>2.490228</td>\n",
       "      <td>28.0</td>\n",
       "      <td>36.00</td>\n",
       "      <td>38.0</td>\n",
       "      <td>40.00</td>\n",
       "      <td>43.0</td>\n",
       "    </tr>\n",
       "    <tr>\n",
       "      <th>FY</th>\n",
       "      <td>84.0</td>\n",
       "      <td>233.845238</td>\n",
       "      <td>6.860914</td>\n",
       "      <td>193.0</td>\n",
       "      <td>230.00</td>\n",
       "      <td>234.0</td>\n",
       "      <td>238.25</td>\n",
       "      <td>245.0</td>\n",
       "    </tr>\n",
       "    <tr>\n",
       "      <th>MARBL</th>\n",
       "      <td>84.0</td>\n",
       "      <td>30.547619</td>\n",
       "      <td>2.441631</td>\n",
       "      <td>21.0</td>\n",
       "      <td>29.00</td>\n",
       "      <td>31.0</td>\n",
       "      <td>32.00</td>\n",
       "      <td>35.0</td>\n",
       "    </tr>\n",
       "    <tr>\n",
       "      <th>MAS1CP</th>\n",
       "      <td>84.0</td>\n",
       "      <td>1.500000</td>\n",
       "      <td>0.611142</td>\n",
       "      <td>1.0</td>\n",
       "      <td>1.00</td>\n",
       "      <td>1.0</td>\n",
       "      <td>2.00</td>\n",
       "      <td>3.0</td>\n",
       "    </tr>\n",
       "    <tr>\n",
       "      <th>MAS2CP</th>\n",
       "      <td>84.0</td>\n",
       "      <td>3.619048</td>\n",
       "      <td>1.107529</td>\n",
       "      <td>1.0</td>\n",
       "      <td>3.00</td>\n",
       "      <td>4.0</td>\n",
       "      <td>5.00</td>\n",
       "      <td>6.0</td>\n",
       "    </tr>\n",
       "    <tr>\n",
       "      <th>MBLG</th>\n",
       "      <td>84.0</td>\n",
       "      <td>5.000000</td>\n",
       "      <td>0.905139</td>\n",
       "      <td>2.0</td>\n",
       "      <td>5.00</td>\n",
       "      <td>5.0</td>\n",
       "      <td>5.25</td>\n",
       "      <td>7.0</td>\n",
       "    </tr>\n",
       "    <tr>\n",
       "      <th>MEATP</th>\n",
       "      <td>84.0</td>\n",
       "      <td>0.916667</td>\n",
       "      <td>0.278045</td>\n",
       "      <td>0.0</td>\n",
       "      <td>1.00</td>\n",
       "      <td>1.0</td>\n",
       "      <td>1.00</td>\n",
       "      <td>1.0</td>\n",
       "    </tr>\n",
       "    <tr>\n",
       "      <th>MTCAS</th>\n",
       "      <td>84.0</td>\n",
       "      <td>1.869048</td>\n",
       "      <td>0.339374</td>\n",
       "      <td>1.0</td>\n",
       "      <td>2.00</td>\n",
       "      <td>2.0</td>\n",
       "      <td>2.00</td>\n",
       "      <td>2.0</td>\n",
       "    </tr>\n",
       "    <tr>\n",
       "      <th>MY</th>\n",
       "      <td>84.0</td>\n",
       "      <td>167.595238</td>\n",
       "      <td>6.313342</td>\n",
       "      <td>141.0</td>\n",
       "      <td>164.00</td>\n",
       "      <td>168.0</td>\n",
       "      <td>172.00</td>\n",
       "      <td>184.0</td>\n",
       "    </tr>\n",
       "    <tr>\n",
       "      <th>NM</th>\n",
       "      <td>84.0</td>\n",
       "      <td>206.011905</td>\n",
       "      <td>6.401231</td>\n",
       "      <td>175.0</td>\n",
       "      <td>202.75</td>\n",
       "      <td>206.0</td>\n",
       "      <td>209.25</td>\n",
       "      <td>220.0</td>\n",
       "    </tr>\n",
       "    <tr>\n",
       "      <th>PL</th>\n",
       "      <td>84.0</td>\n",
       "      <td>193.214286</td>\n",
       "      <td>6.734324</td>\n",
       "      <td>161.0</td>\n",
       "      <td>188.00</td>\n",
       "      <td>194.0</td>\n",
       "      <td>197.25</td>\n",
       "      <td>208.0</td>\n",
       "    </tr>\n",
       "    <tr>\n",
       "      <th>PY</th>\n",
       "      <td>84.0</td>\n",
       "      <td>211.511905</td>\n",
       "      <td>6.352106</td>\n",
       "      <td>176.0</td>\n",
       "      <td>208.00</td>\n",
       "      <td>212.0</td>\n",
       "      <td>216.00</td>\n",
       "      <td>224.0</td>\n",
       "    </tr>\n",
       "    <tr>\n",
       "      <th>SF</th>\n",
       "      <td>84.0</td>\n",
       "      <td>79.750000</td>\n",
       "      <td>4.086047</td>\n",
       "      <td>52.0</td>\n",
       "      <td>78.00</td>\n",
       "      <td>80.0</td>\n",
       "      <td>82.00</td>\n",
       "      <td>86.0</td>\n",
       "    </tr>\n",
       "    <tr>\n",
       "      <th>TEND</th>\n",
       "      <td>84.0</td>\n",
       "      <td>17.559524</td>\n",
       "      <td>1.751771</td>\n",
       "      <td>11.0</td>\n",
       "      <td>17.00</td>\n",
       "      <td>18.0</td>\n",
       "      <td>19.00</td>\n",
       "      <td>21.0</td>\n",
       "    </tr>\n",
       "  </tbody>\n",
       "</table>\n",
       "</div>"
      ],
      "text/plain": [
       "        count        mean       std    min     25%    50%     75%    max\n",
       "FATTH    84.0   38.059524  2.490228   28.0   36.00   38.0   40.00   43.0\n",
       "FY       84.0  233.845238  6.860914  193.0  230.00  234.0  238.25  245.0\n",
       "MARBL    84.0   30.547619  2.441631   21.0   29.00   31.0   32.00   35.0\n",
       "MAS1CP   84.0    1.500000  0.611142    1.0    1.00    1.0    2.00    3.0\n",
       "MAS2CP   84.0    3.619048  1.107529    1.0    3.00    4.0    5.00    6.0\n",
       "MBLG     84.0    5.000000  0.905139    2.0    5.00    5.0    5.25    7.0\n",
       "MEATP    84.0    0.916667  0.278045    0.0    1.00    1.0    1.00    1.0\n",
       "MTCAS    84.0    1.869048  0.339374    1.0    2.00    2.0    2.00    2.0\n",
       "MY       84.0  167.595238  6.313342  141.0  164.00  168.0  172.00  184.0\n",
       "NM       84.0  206.011905  6.401231  175.0  202.75  206.0  209.25  220.0\n",
       "PL       84.0  193.214286  6.734324  161.0  188.00  194.0  197.25  208.0\n",
       "PY       84.0  211.511905  6.352106  176.0  208.00  212.0  216.00  224.0\n",
       "SF       84.0   79.750000  4.086047   52.0   78.00   80.0   82.00   86.0\n",
       "TEND     84.0   17.559524  1.751771   11.0   17.00   18.0   19.00   21.0"
      ]
     },
     "execution_count": 57,
     "metadata": {},
     "output_type": "execute_result"
    }
   ],
   "source": [
    "file.describe().T"
   ]
  },
  {
   "cell_type": "code",
   "execution_count": 58,
   "metadata": {},
   "outputs": [],
   "source": [
    "X2 = file.iloc[:, 1:15].values\n",
    "y2 = file.iloc[:, 0].values\n"
   ]
  },
  {
   "cell_type": "code",
   "execution_count": 59,
   "metadata": {},
   "outputs": [],
   "source": [
    "from sklearn.preprocessing import LabelEncoder\n",
    "X2= sc.fit_transform(X2)\n",
    "le = LabelEncoder()\n",
    "y2 = le.fit_transform(y2)\n",
    "\n"
   ]
  },
  {
   "cell_type": "code",
   "execution_count": 60,
   "metadata": {},
   "outputs": [],
   "source": [
    "X2_train, X2_test, y2_train, y2_test = train_test_split(X2, y2, test_size=0.2, random_state=0)"
   ]
  },
  {
   "cell_type": "code",
   "execution_count": 61,
   "metadata": {},
   "outputs": [],
   "source": [
    "from sklearn.discriminant_analysis import LinearDiscriminantAnalysis\n",
    "\n",
    "lda = LinearDiscriminantAnalysis(n_components=2)"
   ]
  },
  {
   "cell_type": "code",
   "execution_count": 62,
   "metadata": {},
   "outputs": [
    {
     "name": "stdout",
     "output_type": "stream",
     "text": [
      "(67, 14)\n",
      "(67,)\n",
      "(17, 14)\n",
      "(17,)\n"
     ]
    }
   ],
   "source": [
    "print(X2_train.shape)\n",
    "print(y2_train.shape)\n",
    "print(X2_test.shape)\n",
    "print(y2_test.shape)"
   ]
  },
  {
   "cell_type": "code",
   "execution_count": 65,
   "metadata": {},
   "outputs": [
    {
     "ename": "ValueError",
     "evalue": "The number of samples must be more than the number of classes.",
     "output_type": "error",
     "traceback": [
      "\u001b[0;31m---------------------------------------------------------------------------\u001b[0m",
      "\u001b[0;31mValueError\u001b[0m                                Traceback (most recent call last)",
      "Cell \u001b[0;32mIn[65], line 1\u001b[0m\n\u001b[0;32m----> 1\u001b[0m X2_train \u001b[39m=\u001b[39m lda\u001b[39m.\u001b[39;49mfit(X2_train, y2_train)\n",
      "File \u001b[0;32m/Library/Frameworks/Python.framework/Versions/3.10/lib/python3.10/site-packages/sklearn/base.py:1151\u001b[0m, in \u001b[0;36m_fit_context.<locals>.decorator.<locals>.wrapper\u001b[0;34m(estimator, *args, **kwargs)\u001b[0m\n\u001b[1;32m   1144\u001b[0m     estimator\u001b[39m.\u001b[39m_validate_params()\n\u001b[1;32m   1146\u001b[0m \u001b[39mwith\u001b[39;00m config_context(\n\u001b[1;32m   1147\u001b[0m     skip_parameter_validation\u001b[39m=\u001b[39m(\n\u001b[1;32m   1148\u001b[0m         prefer_skip_nested_validation \u001b[39mor\u001b[39;00m global_skip_validation\n\u001b[1;32m   1149\u001b[0m     )\n\u001b[1;32m   1150\u001b[0m ):\n\u001b[0;32m-> 1151\u001b[0m     \u001b[39mreturn\u001b[39;00m fit_method(estimator, \u001b[39m*\u001b[39;49margs, \u001b[39m*\u001b[39;49m\u001b[39m*\u001b[39;49mkwargs)\n",
      "File \u001b[0;32m/Library/Frameworks/Python.framework/Versions/3.10/lib/python3.10/site-packages/sklearn/discriminant_analysis.py:589\u001b[0m, in \u001b[0;36mLinearDiscriminantAnalysis.fit\u001b[0;34m(self, X, y)\u001b[0m\n\u001b[1;32m    586\u001b[0m n_classes \u001b[39m=\u001b[39m \u001b[39mself\u001b[39m\u001b[39m.\u001b[39mclasses_\u001b[39m.\u001b[39mshape[\u001b[39m0\u001b[39m]\n\u001b[1;32m    588\u001b[0m \u001b[39mif\u001b[39;00m n_samples \u001b[39m==\u001b[39m n_classes:\n\u001b[0;32m--> 589\u001b[0m     \u001b[39mraise\u001b[39;00m \u001b[39mValueError\u001b[39;00m(\n\u001b[1;32m    590\u001b[0m         \u001b[39m\"\u001b[39m\u001b[39mThe number of samples must be more than the number of classes.\u001b[39m\u001b[39m\"\u001b[39m\n\u001b[1;32m    591\u001b[0m     )\n\u001b[1;32m    593\u001b[0m \u001b[39mif\u001b[39;00m \u001b[39mself\u001b[39m\u001b[39m.\u001b[39mpriors \u001b[39mis\u001b[39;00m \u001b[39mNone\u001b[39;00m:  \u001b[39m# estimate priors from sample\u001b[39;00m\n\u001b[1;32m    594\u001b[0m     _, cnts \u001b[39m=\u001b[39m xp\u001b[39m.\u001b[39munique_counts(y)  \u001b[39m# non-negative ints\u001b[39;00m\n",
      "\u001b[0;31mValueError\u001b[0m: The number of samples must be more than the number of classes."
     ]
    }
   ],
   "source": [
    "X2_train = lda.fit(X2_train, y2_train)"
   ]
  }
 ],
 "metadata": {
  "kernelspec": {
   "display_name": "Python 3",
   "language": "python",
   "name": "python3"
  },
  "language_info": {
   "codemirror_mode": {
    "name": "ipython",
    "version": 3
   },
   "file_extension": ".py",
   "mimetype": "text/x-python",
   "name": "python",
   "nbconvert_exporter": "python",
   "pygments_lexer": "ipython3",
   "version": "3.10.4"
  },
  "orig_nbformat": 4
 },
 "nbformat": 4,
 "nbformat_minor": 2
}
